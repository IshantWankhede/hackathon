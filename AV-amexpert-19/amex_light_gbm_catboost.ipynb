{
  "nbformat": 4,
  "nbformat_minor": 0,
  "metadata": {
    "colab": {
      "name": "amex_light_gbm_catboost.ipynb",
      "provenance": [],
      "collapsed_sections": []
    },
    "kernelspec": {
      "name": "python3",
      "display_name": "Python 3"
    }
  },
  "cells": [
    {
      "cell_type": "code",
      "metadata": {
        "id": "d8XtNOICxLHY",
        "colab_type": "code",
        "outputId": "d45d5a06-6e3d-4397-86a8-d653e14fee3a",
        "colab": {
          "base_uri": "https://localhost:8080/",
          "height": 272
        }
      },
      "source": [
        "import os\n",
        "import pandas as pd\n",
        "import numpy as np\n",
        "import matplotlib.pyplot as plt\n",
        "import random\n",
        "import time\n",
        "from sklearn.metrics import confusion_matrix\n",
        "from sklearn.metrics import roc_auc_score as roc_auc_score\n",
        "from google.colab import drive\n",
        "import pandas as pd\n",
        "import numpy as np\n",
        "from sklearn.impute import SimpleImputer\n",
        "from sklearn.ensemble import RandomForestClassifier\n",
        "from sklearn.model_selection import train_test_split\n",
        "from sklearn.metrics import accuracy_score\n",
        "import sys\n",
        "np.set_printoptions(threshold=sys.maxsize)\n",
        "import collections\n",
        "import seaborn as sns\n",
        "import matplotlib.pyplot as plt\n",
        "%matplotlib inline\n",
        "from google.colab import drive\n",
        "import matplotlib.pyplot as plt\n",
        "import matplotlib.gridspec as gridspec\n",
        "import itertools\n",
        "from sklearn.linear_model import LogisticRegression\n",
        "from sklearn.svm import SVC\n",
        "from sklearn.ensemble import RandomForestClassifier\n",
        "from mlxtend.classifier import EnsembleVoteClassifier\n",
        "from mlxtend.data import iris_data\n",
        "from mlxtend.plotting import plot_decision_regions\n",
        "from xgboost import XGBClassifier\n",
        "from sklearn.model_selection import GridSearchCV\n",
        "import lightgbm as lgb\n",
        "!pip install catboost\n",
        "import catboost as cbst\n",
        "from catboost import CatBoostClassifier,Pool, cv\n",
        "from lightgbm import LGBMClassifier\n",
        "from sklearn.model_selection import StratifiedKFold,train_test_split\n",
        "from sklearn.linear_model import LogisticRegression\n",
        "# from sklearn.ensemble import RandomForestClassifier\n",
        "from sklearn.metrics import accuracy_score,confusion_matrix,roc_auc_score\n",
        "from sklearn import preprocessing\n",
        "%matplotlib inline"
      ],
      "execution_count": 0,
      "outputs": [
        {
          "output_type": "stream",
          "text": [
            "Requirement already satisfied: catboost in /usr/local/lib/python3.6/dist-packages (0.17.4)\n",
            "Requirement already satisfied: scipy in /usr/local/lib/python3.6/dist-packages (from catboost) (1.3.1)\n",
            "Requirement already satisfied: graphviz in /usr/local/lib/python3.6/dist-packages (from catboost) (0.10.1)\n",
            "Requirement already satisfied: pandas>=0.24.0 in /usr/local/lib/python3.6/dist-packages (from catboost) (0.24.2)\n",
            "Requirement already satisfied: matplotlib in /usr/local/lib/python3.6/dist-packages (from catboost) (3.0.3)\n",
            "Requirement already satisfied: numpy>=1.16.0 in /usr/local/lib/python3.6/dist-packages (from catboost) (1.16.5)\n",
            "Requirement already satisfied: plotly in /usr/local/lib/python3.6/dist-packages (from catboost) (4.1.1)\n",
            "Requirement already satisfied: six in /usr/local/lib/python3.6/dist-packages (from catboost) (1.12.0)\n",
            "Requirement already satisfied: python-dateutil>=2.5.0 in /usr/local/lib/python3.6/dist-packages (from pandas>=0.24.0->catboost) (2.5.3)\n",
            "Requirement already satisfied: pytz>=2011k in /usr/local/lib/python3.6/dist-packages (from pandas>=0.24.0->catboost) (2018.9)\n",
            "Requirement already satisfied: cycler>=0.10 in /usr/local/lib/python3.6/dist-packages (from matplotlib->catboost) (0.10.0)\n",
            "Requirement already satisfied: pyparsing!=2.0.4,!=2.1.2,!=2.1.6,>=2.0.1 in /usr/local/lib/python3.6/dist-packages (from matplotlib->catboost) (2.4.2)\n",
            "Requirement already satisfied: kiwisolver>=1.0.1 in /usr/local/lib/python3.6/dist-packages (from matplotlib->catboost) (1.1.0)\n",
            "Requirement already satisfied: retrying>=1.3.3 in /usr/local/lib/python3.6/dist-packages (from plotly->catboost) (1.3.3)\n",
            "Requirement already satisfied: setuptools in /usr/local/lib/python3.6/dist-packages (from kiwisolver>=1.0.1->matplotlib->catboost) (41.2.0)\n"
          ],
          "name": "stdout"
        }
      ]
    },
    {
      "cell_type": "code",
      "metadata": {
        "id": "hc27ZUuD0D0Y",
        "colab_type": "code",
        "outputId": "7161d420-0061-405f-b2a2-78c25c35b7ba",
        "colab": {
          "base_uri": "https://localhost:8080/",
          "height": 34
        }
      },
      "source": [
        "drive.mount('/content/drive', force_remount=True)"
      ],
      "execution_count": 0,
      "outputs": [
        {
          "output_type": "stream",
          "text": [
            "Mounted at /content/drive\n"
          ],
          "name": "stdout"
        }
      ]
    },
    {
      "cell_type": "markdown",
      "metadata": {
        "id": "SBv1yBbnyQzh",
        "colab_type": "text"
      },
      "source": [
        "# Table : Train \n",
        "### Customer id level feature coming from train+test"
      ]
    },
    {
      "cell_type": "code",
      "metadata": {
        "id": "j9ufDoFVyPsK",
        "colab_type": "code",
        "colab": {}
      },
      "source": [
        "def customer_features_from_train_data():\n",
        "  base_directory = \"/content/drive/My Drive/personal_hackathons/DataSet/amex/train/cleaned_data/\"\n",
        "  # 6th Oct test_data= pd.read_csv(base_directory + \"test.csv\")\n",
        "  train_data= pd.read_csv(base_directory + \"train_data.csv\")\n",
        "  # 6th Oct train_data_drop = train_data.drop(['redemption_status'],axis=1)\n",
        "\n",
        "  print(\"shape of train : {}\".format(train_data_drop.shape))\n",
        "  print(\"shape of train : {}\".format(test_data.shape))\n",
        "  all_data = train_data\n",
        "  # 6th Oct train_data_drop.append(test_data)\n",
        "  print(\"shape of train : {}\".format(all_data.shape))\n",
        "  # Total customer visits\n",
        "  # combining campaign id and coupon id.\n",
        "  # all_data['camp_coup'] = all_data['campaign_id'].astype(str)+\"-\"+ all_data['coupon_id'].astype(str)\n",
        "  customer_visits = all_data.groupby(by='customer_id', as_index=False).agg({'id': pd.Series.nunique,\n",
        "                                                                            'campaign_id' : pd.Series.nunique,\n",
        "                                                                            'coupon_id' : pd.Series.nunique\n",
        "                                                                            # ,'camp_coup': pd.Series.nunique\n",
        "                                                                            ,'redemption_status' : pd.Series.sum\n",
        "                                                                            })\n",
        "  # dropped the feature number of redemptions, will created pseudo from discount.\n",
        "  customer_visits = customer_visits.rename(columns={\"customer_id\":\"customer_id\",  \"id\": \"num_visits\",\"campaign_id\": \"num_campaign_targeted\", \"coupon_id\": \"num_coupons_posses\"})\n",
        "  customer_visits['visit_bins'] , bins = pd.qcut(customer_visits['num_visits'],q=10, retbins=True, labels=[\"b1\", \"b2\", \"b3\", \"b4\", \"b5\", \"b6\", \"b7\", \"b8\", \"b9\", \"b10\"])\n",
        "  customer_visits['customer_redem_rate'] = customer_visits['redemption_status']/customer_visits['num_visits']\n",
        "  customer_visits.head()\n",
        "  min_max_scaler = preprocessing.MinMaxScaler()\n",
        "  min_max_scaler.fit(customer_visits[['num_visits', 'num_campaign_targeted',\n",
        "        'num_coupons_posses','customer_redem_rate']])\n",
        "  customer_visits_scaled = min_max_scaler.transform(customer_visits[['num_visits', 'num_campaign_targeted',\n",
        "        'num_coupons_posses','customer_redem_rate']])\n",
        "  df_customer_visits_scaled = pd.DataFrame(customer_visits_scaled,columns=['num_visits', 'num_campaign_targeted',\n",
        "        'num_coupons_posses','customer_redem_rate'])\n",
        "  df_customer_visits_scaled[['customer_id','visit_bins']] = customer_visits[['customer_id','visit_bins']]\n",
        "  df_customer_visits_scaled = df_customer_visits_scaled.drop(['visit_bins'],axis = 1)\n",
        "  customer_visits = customer_visits.drop(['visit_bins'],axis = 1)\n",
        "  return customer_visits, df_customer_visits_scaled, customer_visits.columns, df_customer_visits_scaled.columns\n",
        "  # customer_visits.to_csv(base_directory + \"customer_persona.csv\",index=False)\n",
        "  # df_customer_visits_scaled.to_csv(base_directory + \"customer_persona_scaled.csv\",index=False)"
      ],
      "execution_count": 0,
      "outputs": []
    },
    {
      "cell_type": "code",
      "metadata": {
        "id": "ODPF5w52DutQ",
        "colab_type": "code",
        "outputId": "c1a87702-a732-4040-d149-086f00a80838",
        "colab": {
          "base_uri": "https://localhost:8080/",
          "height": 204
        }
      },
      "source": [
        "# base_directory = \"/content/drive/My Drive/personal_hackathons/DataSet/amex/train/\"\n",
        "# # \"/content/drive/My Drive/personal_hackathons/DataSet/amex/train/clean\" is corrupted\n",
        "# customer_transaction_data= pd.read_csv(base_directory + \"customer_transaction_data.csv\")\n",
        "# customer_transaction_data.head()\n",
        "# customer_transaction_data['psudo_redem']=0\n",
        "# customer_transaction_data.loc[customer_transaction_data['coupon_discount']<0 ,'psudo_redem']=1\n",
        "# customer_transaction_data.groupby(by='customer_id', as_index=False).agg({'psudo_redem': pd.Series.sum,\n",
        "#                                                                           })\n",
        "base_directory = \"/content/drive/My Drive/personal_hackathons/AMEX/\"\n",
        "df= pd.read_csv(base_directory + \"train_common_items_user_coupon.csv\")\n",
        "df.head()"
      ],
      "execution_count": 0,
      "outputs": [
        {
          "output_type": "execute_result",
          "data": {
            "text/html": [
              "<div>\n",
              "<style scoped>\n",
              "    .dataframe tbody tr th:only-of-type {\n",
              "        vertical-align: middle;\n",
              "    }\n",
              "\n",
              "    .dataframe tbody tr th {\n",
              "        vertical-align: top;\n",
              "    }\n",
              "\n",
              "    .dataframe thead th {\n",
              "        text-align: right;\n",
              "    }\n",
              "</style>\n",
              "<table border=\"1\" class=\"dataframe\">\n",
              "  <thead>\n",
              "    <tr style=\"text-align: right;\">\n",
              "      <th></th>\n",
              "      <th>id</th>\n",
              "      <th>campaign_id</th>\n",
              "      <th>coupon_id</th>\n",
              "      <th>customer_id</th>\n",
              "      <th>redemption_status</th>\n",
              "      <th>common_items_user_coupon</th>\n",
              "    </tr>\n",
              "  </thead>\n",
              "  <tbody>\n",
              "    <tr>\n",
              "      <th>0</th>\n",
              "      <td>1</td>\n",
              "      <td>13</td>\n",
              "      <td>27</td>\n",
              "      <td>1053</td>\n",
              "      <td>0</td>\n",
              "      <td>0</td>\n",
              "    </tr>\n",
              "    <tr>\n",
              "      <th>1</th>\n",
              "      <td>2</td>\n",
              "      <td>13</td>\n",
              "      <td>116</td>\n",
              "      <td>48</td>\n",
              "      <td>0</td>\n",
              "      <td>0</td>\n",
              "    </tr>\n",
              "    <tr>\n",
              "      <th>2</th>\n",
              "      <td>6</td>\n",
              "      <td>9</td>\n",
              "      <td>635</td>\n",
              "      <td>205</td>\n",
              "      <td>0</td>\n",
              "      <td>0</td>\n",
              "    </tr>\n",
              "    <tr>\n",
              "      <th>3</th>\n",
              "      <td>7</td>\n",
              "      <td>13</td>\n",
              "      <td>644</td>\n",
              "      <td>1050</td>\n",
              "      <td>0</td>\n",
              "      <td>0</td>\n",
              "    </tr>\n",
              "    <tr>\n",
              "      <th>4</th>\n",
              "      <td>9</td>\n",
              "      <td>8</td>\n",
              "      <td>1017</td>\n",
              "      <td>1489</td>\n",
              "      <td>0</td>\n",
              "      <td>0</td>\n",
              "    </tr>\n",
              "  </tbody>\n",
              "</table>\n",
              "</div>"
            ],
            "text/plain": [
              "   id  campaign_id  ...  redemption_status  common_items_user_coupon\n",
              "0   1           13  ...                  0                         0\n",
              "1   2           13  ...                  0                         0\n",
              "2   6            9  ...                  0                         0\n",
              "3   7           13  ...                  0                         0\n",
              "4   9            8  ...                  0                         0\n",
              "\n",
              "[5 rows x 6 columns]"
            ]
          },
          "metadata": {
            "tags": []
          },
          "execution_count": 80
        }
      ]
    },
    {
      "cell_type": "code",
      "metadata": {
        "id": "K4VLxu__zY4f",
        "colab_type": "code",
        "colab": {}
      },
      "source": [
        "def customer_transaction_features():\n",
        "  base_directory = \"/content/drive/My Drive/personal_hackathons/DataSet/amex/train/\"\n",
        "  # \"/content/drive/My Drive/personal_hackathons/DataSet/amex/train/clean\" is corrupted\n",
        "  customer_transaction_data= pd.read_csv(base_directory + \"customer_transaction_data.csv\")\n",
        "  customer_transaction_data['psudo_redem']=0\n",
        "  customer_transaction_data.loc[customer_transaction_data['coupon_discount']<0 ,'psudo_redem']=1\n",
        "  customer_transaction_data.head()\n",
        "                          \n",
        "  aggregation = {\n",
        "      'selling_price' : {\n",
        "          'tot_purchase':'sum',\n",
        "          'avg_purchase':'mean',\n",
        "          'max_purchase':'max'\n",
        "      },\n",
        "      'other_discount':{\n",
        "          'tot_o_discount':'sum',\n",
        "          'avg_o_discount':'mean',\n",
        "          'max_o_discount':'min'\n",
        "      },\n",
        "      'coupon_discount':{\n",
        "          'tot_c_discount':'sum',\n",
        "          'avg_c_discount':'mean',\n",
        "          'max_c_discount':'min'\n",
        "      },\n",
        "      'quantity':{\n",
        "          'tot_qty':'sum',\n",
        "          'avg_qty':'mean',\n",
        "          'max_qty':'max'\n",
        "      },\n",
        "      'item_id' :{\n",
        "          'uni_item':'nunique'\n",
        "      }\n",
        "\n",
        "  }\n",
        "  # customer_trans_features = customer_transaction_data.groupby(by='customer_id', as_index=False).agg(aggregation)\n",
        "  customer_trans_features = customer_transaction_data.groupby(by='customer_id').agg(aggregation)\n",
        "  # Using ravel, and a string join, we can create better names for the columns:\n",
        "  customer_trans_features.columns = [\"_\".join(x) for x in customer_trans_features.columns.ravel()]\n",
        "  customer_trans_features.head()\n",
        "  # print(len(customer_transaction_data['customer_id'].unique()))\n",
        "  from sklearn import preprocessing\n",
        "  min_max_scaler = preprocessing.MinMaxScaler()\n",
        "  min_max_scaler.fit(customer_trans_features)\n",
        "  customer_trans_features_scaled = min_max_scaler.transform(customer_trans_features)\n",
        "  df_customer_trans_features_scaled = pd.DataFrame(customer_trans_features_scaled,columns=customer_trans_features.columns)\n",
        "  df_customer_trans_features_scaled.head()\n",
        "\n",
        "  for f in customer_trans_features.columns:\n",
        "    print(f)\n",
        "    try:\n",
        "      customer_trans_features[f+\"_bin\"], bins = pd.qcut(customer_trans_features[f], q=10, retbins=True,labels=[\"b1\", \"b2\", \"b3\", \"b4\", \"b5\", \"b6\", \"b7\", \"b8\", \"b9\", \"b10\"])\n",
        "    except:\n",
        "      customer_trans_features[f+\"_bin\"], bins = pd.qcut(customer_trans_features[f], q=3, retbins=True,labels=[\"b1\", \"b2\",\"b3\"])\n",
        "\n",
        "\n",
        "  customer_trans_features.reset_index(level=0, inplace=True)\n",
        "  # customer_trans_features.reset_index(level=0, inplace=True)\n",
        "  # df_customer_trans_features_scaled.columns = [\"_\".join(x) for x in df_customer_trans_features_scaled.columns]\n",
        "  df_customer_trans_features_scaled.columns = [s + \"_scld\" for s in df_customer_trans_features_scaled.columns]\n",
        "  df_customer_trans_features_scaled['customer_id'] = customer_trans_features['customer_id']\n",
        "  df_customer_trans_features_scaled.head()\n",
        "\n",
        "  # df_customer_trans_features_scaled.to_csv(base_directory + \"customer_purchase_power_scaled.csv\",index=False)\n",
        "  # customer_trans_features.to_csv(base_directory + \"customer_purchase_power.csv\",index=False)\n",
        "  # customer_trans_features.shape, df_customer_trans_features_scaled.shape\n",
        "\n",
        "  customer_psudo_redem = customer_transaction_data.groupby(by='customer_id', as_index=False).agg({'psudo_redem': pd.Series.sum                                                                      \n",
        "                                                                            })\n",
        "  # persona_purachase_power = pd.merge(df_customer_trans_features_scaled,df_customer_visits_scaled,on='customer_id', how='left')\n",
        "  # persona_purachase_power = pd.merge(customer_trans_features,customer_visits,on='customer_id', how='left')\n",
        "  persona_purachase_power_psudo = pd.merge(customer_trans_features,customer_psudo_redem,on='customer_id', how='left')\n",
        "  # persona_purachase_power_psudo_1 = pd.merge(persona_purachase_power_psudo,customer_trans_features,on='customer_id', how='left')\n",
        "  print (persona_purachase_power_psudo.columns)\n",
        "  feature_set = ['customer_id', 'selling_price_tot_purchase',\n",
        "       'selling_price_avg_purchase', 'selling_price_max_purchase',\n",
        "       'other_discount_tot_o_discount', 'other_discount_avg_o_discount',\n",
        "       'other_discount_max_o_discount', 'coupon_discount_tot_c_discount',\n",
        "       'coupon_discount_avg_c_discount', 'coupon_discount_max_c_discount',\n",
        "       'quantity_tot_qty', 'quantity_avg_qty', 'quantity_max_qty',\n",
        "       'item_id_uni_item','psudo_redem']\n",
        "  return persona_purachase_power_psudo[feature_set]"
      ],
      "execution_count": 0,
      "outputs": []
    },
    {
      "cell_type": "code",
      "metadata": {
        "id": "2GgVf-6d0V6p",
        "colab_type": "code",
        "outputId": "0a25983a-6317-44dd-928d-e61ab3155ddd",
        "colab": {
          "base_uri": "https://localhost:8080/",
          "height": 581
        }
      },
      "source": [
        "df = customer_transaction_features()"
      ],
      "execution_count": 0,
      "outputs": [
        {
          "output_type": "stream",
          "text": [
            "/usr/local/lib/python3.6/dist-packages/pandas/core/groupby/generic.py:1315: FutureWarning: using a dict with renaming is deprecated and will be removed in a future version\n",
            "  return super(DataFrameGroupBy, self).aggregate(arg, *args, **kwargs)\n"
          ],
          "name": "stderr"
        },
        {
          "output_type": "stream",
          "text": [
            "selling_price_tot_purchase\n",
            "selling_price_avg_purchase\n",
            "selling_price_max_purchase\n",
            "other_discount_tot_o_discount\n",
            "other_discount_avg_o_discount\n",
            "other_discount_max_o_discount\n",
            "coupon_discount_tot_c_discount\n",
            "coupon_discount_avg_c_discount\n",
            "coupon_discount_max_c_discount\n",
            "quantity_tot_qty\n",
            "quantity_avg_qty\n",
            "quantity_max_qty\n",
            "item_id_uni_item\n",
            "Index(['customer_id', 'selling_price_tot_purchase',\n",
            "       'selling_price_avg_purchase', 'selling_price_max_purchase',\n",
            "       'other_discount_tot_o_discount', 'other_discount_avg_o_discount',\n",
            "       'other_discount_max_o_discount', 'coupon_discount_tot_c_discount',\n",
            "       'coupon_discount_avg_c_discount', 'coupon_discount_max_c_discount',\n",
            "       'quantity_tot_qty', 'quantity_avg_qty', 'quantity_max_qty',\n",
            "       'item_id_uni_item', 'selling_price_tot_purchase_bin',\n",
            "       'selling_price_avg_purchase_bin', 'selling_price_max_purchase_bin',\n",
            "       'other_discount_tot_o_discount_bin',\n",
            "       'other_discount_avg_o_discount_bin',\n",
            "       'other_discount_max_o_discount_bin',\n",
            "       'coupon_discount_tot_c_discount_bin',\n",
            "       'coupon_discount_avg_c_discount_bin',\n",
            "       'coupon_discount_max_c_discount_bin', 'quantity_tot_qty_bin',\n",
            "       'quantity_avg_qty_bin', 'quantity_max_qty_bin', 'item_id_uni_item_bin',\n",
            "       'psudo_redem'],\n",
            "      dtype='object')\n"
          ],
          "name": "stdout"
        }
      ]
    },
    {
      "cell_type": "markdown",
      "metadata": {
        "id": "fMbFWcy7brtX",
        "colab_type": "text"
      },
      "source": [
        "### Number of items sold in the coupon\n",
        "### Coupon redemption rate"
      ]
    },
    {
      "cell_type": "code",
      "metadata": {
        "id": "3vc_SCINb-Wv",
        "colab_type": "code",
        "colab": {}
      },
      "source": [
        "def coupon_item_count_redem_rate():\n",
        "  base_directory = \"/content/drive/My Drive/personal_hackathons/DataSet/amex/train/\"\n",
        "  # \"/content/drive/My Drive/personal_hackathons/DataSet/amex/train/clean\" is corrupted\n",
        "  coupon_item_mapping= pd.read_csv(base_directory + \"coupon_item_mapping.csv\")\n",
        "                          \n",
        "  aggregation = {\n",
        "      'item_id' : {\n",
        "          'tot_item_in_coupon':'nunique',\n",
        "      }\n",
        "  }\n",
        "  # customer_trans_features = customer_transaction_data.groupby(by='customer_id', as_index=False).agg(aggregation)\n",
        "  coupon_item_mapping_features = coupon_item_mapping.groupby(by='coupon_id').agg(aggregation)\n",
        "  coupon_item_mapping_features.columns = [x[1] for x in coupon_item_mapping_features.columns.ravel()]\n",
        "\n",
        "  coupon_item_mapping_features.reset_index(level=0, inplace=True)\n",
        "  train_data.head()\n",
        "\n",
        "\n",
        "  aggregation_redem_rate = {\n",
        "      'redemption_status' : {\n",
        "          'c_sum':'sum',\n",
        "          'c_count':'count'\n",
        "      }\n",
        "  }\n",
        "  coupon_redem_rate_features = train_data.groupby(by='coupon_id').agg(aggregation_redem_rate)\n",
        "  coupon_redem_rate_features.columns = [x[1] for x in coupon_redem_rate_features.columns.ravel()]\n",
        "  coupon_redem_rate_features['coupon_redemption_rate'] = coupon_redem_rate_features['c_sum']*100/coupon_redem_rate_features['c_count']\n",
        "  coupon_redem_rate_features.reset_index(level=0, inplace=True)\n",
        "  coupon_redem_rate_features.head()\n",
        "  # df_customer_trans_features_scaled.to_csv(base_directory + \"customer_purchase_power_scaled.csv\",index=False)\n",
        "  # customer_trans_features.to_csv(base_directory + \"customer_purchase_power.csv\",index=False)\n",
        "\n",
        "  ## Getting coupon redemption rate to item coupon mapping then getting \n",
        "\n",
        "  coupon_item_mapping_rate = pd.merge(coupon_item_mapping, coupon_redem_rate_features[['coupon_id','coupon_redemption_rate']],on='coupon_id', how='left')\n",
        "  coupon_item_mapping_rate.fillna(0, inplace=True)\n",
        "  coupon_price_data= pd.read_csv(\"/content/drive/My Drive/personal_hackathons/AMEX/coupon_price_data.csv\") \n",
        "\n",
        "  # item_data= pd.read_csv(base_directory + \"item_data.csv\")\n",
        "  # coupon_rate_grosary = pd.merge(coupon_item_mapping_rate, item_data,on='item_id', how='left')\n",
        "  # coupon_rate_grosary.head()\n",
        "  coupon_features = pd.merge(coupon_item_mapping_features, coupon_redem_rate_features[['coupon_id','coupon_redemption_rate']],on='coupon_id', how='left')\n",
        "  coupon_features = pd.merge(coupon_features, coupon_price_data,on='coupon_id', how='left')\n",
        "  coupon_features.head()\n",
        "  return coupon_features"
      ],
      "execution_count": 0,
      "outputs": []
    },
    {
      "cell_type": "code",
      "metadata": {
        "id": "b4M05lxKKe8R",
        "colab_type": "code",
        "outputId": "99a3c166-2a15-4332-93a9-d0863e0ef192",
        "colab": {
          "base_uri": "https://localhost:8080/",
          "height": 258
        }
      },
      "source": [
        "coupon_features = coupon_item_count_redem_rate()\n",
        "coupon_features.head()"
      ],
      "execution_count": 0,
      "outputs": [
        {
          "output_type": "stream",
          "text": [
            "/usr/local/lib/python3.6/dist-packages/pandas/core/groupby/generic.py:1315: FutureWarning: using a dict with renaming is deprecated and will be removed in a future version\n",
            "  return super(DataFrameGroupBy, self).aggregate(arg, *args, **kwargs)\n"
          ],
          "name": "stderr"
        },
        {
          "output_type": "execute_result",
          "data": {
            "text/html": [
              "<div>\n",
              "<style scoped>\n",
              "    .dataframe tbody tr th:only-of-type {\n",
              "        vertical-align: middle;\n",
              "    }\n",
              "\n",
              "    .dataframe tbody tr th {\n",
              "        vertical-align: top;\n",
              "    }\n",
              "\n",
              "    .dataframe thead th {\n",
              "        text-align: right;\n",
              "    }\n",
              "</style>\n",
              "<table border=\"1\" class=\"dataframe\">\n",
              "  <thead>\n",
              "    <tr style=\"text-align: right;\">\n",
              "      <th></th>\n",
              "      <th>coupon_id</th>\n",
              "      <th>tot_item_in_coupon</th>\n",
              "      <th>coupon_redemption_rate</th>\n",
              "      <th>median_mrp</th>\n",
              "      <th>std_mean_mrp</th>\n",
              "      <th>std_mrp</th>\n",
              "    </tr>\n",
              "  </thead>\n",
              "  <tbody>\n",
              "    <tr>\n",
              "      <th>0</th>\n",
              "      <td>1</td>\n",
              "      <td>39</td>\n",
              "      <td>0.0</td>\n",
              "      <td>111.8450</td>\n",
              "      <td>25.065998</td>\n",
              "      <td>3.208026e+00</td>\n",
              "    </tr>\n",
              "    <tr>\n",
              "      <th>1</th>\n",
              "      <td>2</td>\n",
              "      <td>2</td>\n",
              "      <td>0.0</td>\n",
              "      <td>122.5345</td>\n",
              "      <td>17.628879</td>\n",
              "      <td>1.959506e-03</td>\n",
              "    </tr>\n",
              "    <tr>\n",
              "      <th>2</th>\n",
              "      <td>3</td>\n",
              "      <td>17</td>\n",
              "      <td>0.0</td>\n",
              "      <td>135.0000</td>\n",
              "      <td>6.697936</td>\n",
              "      <td>9.440213e+00</td>\n",
              "    </tr>\n",
              "    <tr>\n",
              "      <th>3</th>\n",
              "      <td>4</td>\n",
              "      <td>24</td>\n",
              "      <td>0.0</td>\n",
              "      <td>213.3600</td>\n",
              "      <td>14.251253</td>\n",
              "      <td>2.798186e+00</td>\n",
              "    </tr>\n",
              "    <tr>\n",
              "      <th>4</th>\n",
              "      <td>5</td>\n",
              "      <td>7</td>\n",
              "      <td>0.0</td>\n",
              "      <td>320.2200</td>\n",
              "      <td>137.784172</td>\n",
              "      <td>4.236858e-14</td>\n",
              "    </tr>\n",
              "  </tbody>\n",
              "</table>\n",
              "</div>"
            ],
            "text/plain": [
              "   coupon_id  tot_item_in_coupon  ...  std_mean_mrp       std_mrp\n",
              "0          1                  39  ...     25.065998  3.208026e+00\n",
              "1          2                   2  ...     17.628879  1.959506e-03\n",
              "2          3                  17  ...      6.697936  9.440213e+00\n",
              "3          4                  24  ...     14.251253  2.798186e+00\n",
              "4          5                   7  ...    137.784172  4.236858e-14\n",
              "\n",
              "[5 rows x 6 columns]"
            ]
          },
          "metadata": {
            "tags": []
          },
          "execution_count": 195
        }
      ]
    },
    {
      "cell_type": "code",
      "metadata": {
        "id": "ZvkC2cinUvBo",
        "colab_type": "code",
        "outputId": "07e04dcd-288b-4340-80b6-c7d48e9c48b8",
        "colab": {
          "base_uri": "https://localhost:8080/",
          "height": 326
        }
      },
      "source": [
        "coupon_rate_grosary.head()\n",
        "category_redem_rate = pd.pivot_table(coupon_rate_grosary,index=[\"item_id\"],values=[\"coupon_redemption_rate\"],\n",
        "               columns=[\"category\"],aggfunc=[np.mean])\n",
        "\n",
        "category_redem_rate.columns = ['_'.join(x) for x in category_redem_rate.columns.ravel()]\n",
        "category_redem_rate.fillna(0, inplace=True)\n",
        "category_redem_rate.head()\n",
        "category_redem_rate.reset_index(level=0, inplace=True)\n",
        "\n",
        "customer_transaction_data.head()\n",
        "category_redem_rate = pd.merge(category_redem_rate,customer_transaction_data,on='item_id', how='left')\n",
        "category_redem_rate.head()"
      ],
      "execution_count": 0,
      "outputs": [
        {
          "output_type": "execute_result",
          "data": {
            "text/html": [
              "<div>\n",
              "<style scoped>\n",
              "    .dataframe tbody tr th:only-of-type {\n",
              "        vertical-align: middle;\n",
              "    }\n",
              "\n",
              "    .dataframe tbody tr th {\n",
              "        vertical-align: top;\n",
              "    }\n",
              "\n",
              "    .dataframe thead th {\n",
              "        text-align: right;\n",
              "    }\n",
              "</style>\n",
              "<table border=\"1\" class=\"dataframe\">\n",
              "  <thead>\n",
              "    <tr style=\"text-align: right;\">\n",
              "      <th></th>\n",
              "      <th>item_id</th>\n",
              "      <th>mean_coupon_redemption_rate_Bakery</th>\n",
              "      <th>mean_coupon_redemption_rate_Dairy, Juices &amp; Snacks</th>\n",
              "      <th>mean_coupon_redemption_rate_Flowers &amp; Plants</th>\n",
              "      <th>mean_coupon_redemption_rate_Garden</th>\n",
              "      <th>mean_coupon_redemption_rate_Grocery</th>\n",
              "      <th>mean_coupon_redemption_rate_Meat</th>\n",
              "      <th>mean_coupon_redemption_rate_Miscellaneous</th>\n",
              "      <th>mean_coupon_redemption_rate_Natural Products</th>\n",
              "      <th>mean_coupon_redemption_rate_Packaged Meat</th>\n",
              "      <th>mean_coupon_redemption_rate_Pharmaceutical</th>\n",
              "      <th>mean_coupon_redemption_rate_Prepared Food</th>\n",
              "      <th>mean_coupon_redemption_rate_Restauarant</th>\n",
              "      <th>mean_coupon_redemption_rate_Salads</th>\n",
              "      <th>mean_coupon_redemption_rate_Seafood</th>\n",
              "      <th>mean_coupon_redemption_rate_Skin &amp; Hair Care</th>\n",
              "      <th>mean_coupon_redemption_rate_Travel</th>\n",
              "      <th>mean_coupon_redemption_rate_Vegetables (cut)</th>\n",
              "      <th>date</th>\n",
              "      <th>customer_id</th>\n",
              "      <th>quantity</th>\n",
              "      <th>selling_price</th>\n",
              "      <th>other_discount</th>\n",
              "      <th>coupon_discount</th>\n",
              "      <th>psudo_redem</th>\n",
              "    </tr>\n",
              "  </thead>\n",
              "  <tbody>\n",
              "    <tr>\n",
              "      <th>0</th>\n",
              "      <td>1</td>\n",
              "      <td>0.0</td>\n",
              "      <td>0.0</td>\n",
              "      <td>0.0</td>\n",
              "      <td>0.0</td>\n",
              "      <td>4.508197</td>\n",
              "      <td>0.0</td>\n",
              "      <td>0.0</td>\n",
              "      <td>0.0</td>\n",
              "      <td>0.0</td>\n",
              "      <td>0.00000</td>\n",
              "      <td>0.0</td>\n",
              "      <td>0.0</td>\n",
              "      <td>0.0</td>\n",
              "      <td>0.0</td>\n",
              "      <td>0.0</td>\n",
              "      <td>0.0</td>\n",
              "      <td>0.0</td>\n",
              "      <td>2012-06-06</td>\n",
              "      <td>781.0</td>\n",
              "      <td>1.0</td>\n",
              "      <td>124.31</td>\n",
              "      <td>0.0</td>\n",
              "      <td>0.0</td>\n",
              "      <td>0.0</td>\n",
              "    </tr>\n",
              "    <tr>\n",
              "      <th>1</th>\n",
              "      <td>1</td>\n",
              "      <td>0.0</td>\n",
              "      <td>0.0</td>\n",
              "      <td>0.0</td>\n",
              "      <td>0.0</td>\n",
              "      <td>4.508197</td>\n",
              "      <td>0.0</td>\n",
              "      <td>0.0</td>\n",
              "      <td>0.0</td>\n",
              "      <td>0.0</td>\n",
              "      <td>0.00000</td>\n",
              "      <td>0.0</td>\n",
              "      <td>0.0</td>\n",
              "      <td>0.0</td>\n",
              "      <td>0.0</td>\n",
              "      <td>0.0</td>\n",
              "      <td>0.0</td>\n",
              "      <td>0.0</td>\n",
              "      <td>2012-09-04</td>\n",
              "      <td>230.0</td>\n",
              "      <td>1.0</td>\n",
              "      <td>124.31</td>\n",
              "      <td>0.0</td>\n",
              "      <td>0.0</td>\n",
              "      <td>0.0</td>\n",
              "    </tr>\n",
              "    <tr>\n",
              "      <th>2</th>\n",
              "      <td>4</td>\n",
              "      <td>0.0</td>\n",
              "      <td>0.0</td>\n",
              "      <td>0.0</td>\n",
              "      <td>0.0</td>\n",
              "      <td>0.000000</td>\n",
              "      <td>0.0</td>\n",
              "      <td>0.0</td>\n",
              "      <td>0.0</td>\n",
              "      <td>0.0</td>\n",
              "      <td>0.00000</td>\n",
              "      <td>0.0</td>\n",
              "      <td>0.0</td>\n",
              "      <td>0.0</td>\n",
              "      <td>0.0</td>\n",
              "      <td>0.0</td>\n",
              "      <td>0.0</td>\n",
              "      <td>0.0</td>\n",
              "      <td>2012-08-26</td>\n",
              "      <td>890.0</td>\n",
              "      <td>1.0</td>\n",
              "      <td>54.85</td>\n",
              "      <td>0.0</td>\n",
              "      <td>0.0</td>\n",
              "      <td>0.0</td>\n",
              "    </tr>\n",
              "    <tr>\n",
              "      <th>3</th>\n",
              "      <td>7</td>\n",
              "      <td>0.0</td>\n",
              "      <td>0.0</td>\n",
              "      <td>0.0</td>\n",
              "      <td>0.0</td>\n",
              "      <td>0.000000</td>\n",
              "      <td>0.0</td>\n",
              "      <td>0.0</td>\n",
              "      <td>0.0</td>\n",
              "      <td>0.0</td>\n",
              "      <td>2.03252</td>\n",
              "      <td>0.0</td>\n",
              "      <td>0.0</td>\n",
              "      <td>0.0</td>\n",
              "      <td>0.0</td>\n",
              "      <td>0.0</td>\n",
              "      <td>0.0</td>\n",
              "      <td>0.0</td>\n",
              "      <td>2012-06-17</td>\n",
              "      <td>637.0</td>\n",
              "      <td>1.0</td>\n",
              "      <td>270.36</td>\n",
              "      <td>0.0</td>\n",
              "      <td>0.0</td>\n",
              "      <td>0.0</td>\n",
              "    </tr>\n",
              "    <tr>\n",
              "      <th>4</th>\n",
              "      <td>10</td>\n",
              "      <td>0.0</td>\n",
              "      <td>0.0</td>\n",
              "      <td>0.0</td>\n",
              "      <td>0.0</td>\n",
              "      <td>2.911993</td>\n",
              "      <td>0.0</td>\n",
              "      <td>0.0</td>\n",
              "      <td>0.0</td>\n",
              "      <td>0.0</td>\n",
              "      <td>0.00000</td>\n",
              "      <td>0.0</td>\n",
              "      <td>0.0</td>\n",
              "      <td>0.0</td>\n",
              "      <td>0.0</td>\n",
              "      <td>0.0</td>\n",
              "      <td>0.0</td>\n",
              "      <td>0.0</td>\n",
              "      <td>2012-03-12</td>\n",
              "      <td>637.0</td>\n",
              "      <td>1.0</td>\n",
              "      <td>97.96</td>\n",
              "      <td>0.0</td>\n",
              "      <td>0.0</td>\n",
              "      <td>0.0</td>\n",
              "    </tr>\n",
              "  </tbody>\n",
              "</table>\n",
              "</div>"
            ],
            "text/plain": [
              "   item_id  mean_coupon_redemption_rate_Bakery  ...  coupon_discount  psudo_redem\n",
              "0        1                                 0.0  ...              0.0          0.0\n",
              "1        1                                 0.0  ...              0.0          0.0\n",
              "2        4                                 0.0  ...              0.0          0.0\n",
              "3        7                                 0.0  ...              0.0          0.0\n",
              "4       10                                 0.0  ...              0.0          0.0\n",
              "\n",
              "[5 rows x 25 columns]"
            ]
          },
          "metadata": {
            "tags": []
          },
          "execution_count": 10
        }
      ]
    },
    {
      "cell_type": "markdown",
      "metadata": {
        "id": "SSeGlHLqNOwm",
        "colab_type": "text"
      },
      "source": [
        "# Building the data for training"
      ]
    },
    {
      "cell_type": "markdown",
      "metadata": {
        "id": "m8TYk7-wmLiu",
        "colab_type": "text"
      },
      "source": [
        "### reading train test"
      ]
    },
    {
      "cell_type": "code",
      "metadata": {
        "id": "QS1_JAcgmPMJ",
        "colab_type": "code",
        "colab": {}
      },
      "source": [
        "base_directory = \"/content/drive/My Drive/personal_hackathons/DataSet/amex/train/cleaned_data/\"\n",
        "test_data= pd.read_csv(base_directory + \"test.csv\")\n",
        "train_data= pd.read_csv(base_directory + \"train_data.csv\")"
      ],
      "execution_count": 0,
      "outputs": []
    },
    {
      "cell_type": "markdown",
      "metadata": {
        "id": "jSC77eQ3mVmS",
        "colab_type": "text"
      },
      "source": [
        "### reading campaign data features\n",
        "join condition : campaign id\n",
        "\n",
        "features prepared: ?\n",
        "pranshu has created them and his code writes them into file campaign_data_with_only_new_features"
      ]
    },
    {
      "cell_type": "code",
      "metadata": {
        "id": "CdngyibVmo-J",
        "colab_type": "code",
        "colab": {}
      },
      "source": [
        "base_directory = \"/content/drive/My Drive/personal_hackathons/DataSet/amex/train/cleaned_data/campaign_data_features/\"\n",
        "campaign_level_data= pd.read_csv(base_directory + \"campaign_data_features.csv\")"
      ],
      "execution_count": 0,
      "outputs": []
    },
    {
      "cell_type": "code",
      "metadata": {
        "id": "sBHi3dXuoS1p",
        "colab_type": "code",
        "colab": {}
      },
      "source": [
        ""
      ],
      "execution_count": 0,
      "outputs": []
    },
    {
      "cell_type": "markdown",
      "metadata": {
        "id": "3dy0c7wWm1gp",
        "colab_type": "text"
      },
      "source": [
        "Now including campaign data features in training data by left join with train data"
      ]
    },
    {
      "cell_type": "code",
      "metadata": {
        "id": "IPPX-w97nDPw",
        "colab_type": "code",
        "colab": {}
      },
      "source": [
        "X_train = train_data.drop(['redemption_status'],axis=1)\n",
        "y_train = train_data.loc[:, train_data.columns == 'redemption_status']\n",
        "X_test = test_data.loc[:, test_data.columns != 'redemption_status']\n",
        "\n",
        "# campaign trends\n",
        "X_train = pd.merge(X_train,campaign_level_data,on='campaign_id', how='left')\n",
        "X_test = pd.merge(X_test,campaign_level_data,on='campaign_id', how='left')"
      ],
      "execution_count": 0,
      "outputs": []
    },
    {
      "cell_type": "markdown",
      "metadata": {
        "id": "KdldF1AbpvsC",
        "colab_type": "text"
      },
      "source": [
        "### Creating customer id level features from train\n"
      ]
    },
    {
      "cell_type": "code",
      "metadata": {
        "id": "gowzdi_oq_9K",
        "colab_type": "code",
        "outputId": "e7d542f2-20d2-4af8-83c0-b9307748d823",
        "colab": {
          "base_uri": "https://localhost:8080/",
          "height": 119
        }
      },
      "source": [
        "customer_visits, customer_visit_scaled, customer_visits_features, customer_visit_scaled_features = customer_features_from_train_data()\n",
        "customer_visits_features"
      ],
      "execution_count": 0,
      "outputs": [
        {
          "output_type": "stream",
          "text": [
            "shape of train : (78369, 4)\n",
            "shape of train : (50226, 4)\n",
            "shape of train : (78369, 5)\n"
          ],
          "name": "stdout"
        },
        {
          "output_type": "execute_result",
          "data": {
            "text/plain": [
              "Index(['customer_id', 'num_visits', 'num_campaign_targeted',\n",
              "       'num_coupons_posses', 'redemption_status', 'customer_redem_rate'],\n",
              "      dtype='object')"
            ]
          },
          "metadata": {
            "tags": []
          },
          "execution_count": 561
        }
      ]
    },
    {
      "cell_type": "markdown",
      "metadata": {
        "id": "c30N-ofhsejx",
        "colab_type": "text"
      },
      "source": [
        "Now including customer visits features into train test"
      ]
    },
    {
      "cell_type": "code",
      "metadata": {
        "id": "XzMUpaK8sqaI",
        "colab_type": "code",
        "outputId": "88e16e06-586f-47c4-d542-0b9288968302",
        "colab": {
          "base_uri": "https://localhost:8080/",
          "height": 102
        }
      },
      "source": [
        "# campaign trends\n",
        "X_train = pd.merge(X_train,customer_visits,on='customer_id', how='left')\n",
        "X_test = pd.merge(X_test,customer_visits,on='customer_id', how='left')\n",
        "\n",
        "X_train[customer_visits_features].fillna(0, inplace=True)\n",
        "X_test[customer_visits_features].fillna(0, inplace=True) \n"
      ],
      "execution_count": 0,
      "outputs": [
        {
          "output_type": "stream",
          "text": [
            "/usr/local/lib/python3.6/dist-packages/pandas/core/frame.py:4034: SettingWithCopyWarning: \n",
            "A value is trying to be set on a copy of a slice from a DataFrame\n",
            "\n",
            "See the caveats in the documentation: http://pandas.pydata.org/pandas-docs/stable/indexing.html#indexing-view-versus-copy\n",
            "  downcast=downcast, **kwargs)\n"
          ],
          "name": "stderr"
        }
      ]
    },
    {
      "cell_type": "markdown",
      "metadata": {
        "id": "2J6sCjddzqk8",
        "colab_type": "text"
      },
      "source": [
        "### Including Customer Coupons common number of items"
      ]
    },
    {
      "cell_type": "code",
      "metadata": {
        "id": "1zrpknJxz8EN",
        "colab_type": "code",
        "colab": {}
      },
      "source": [
        "ba_dir = \"/content/drive/My Drive/personal_hackathons/AMEX/\"\n",
        "train_common_items_user_coupon= pd.read_csv(ba_dir + \"train_common_items_user_coupon.csv\")\n",
        "test_common_items_user_coupon= pd.read_csv(ba_dir + \"test_common_items_user_coupon.csv\")\n",
        "test_common_items_user_coupon.head()\n",
        "\n",
        "# customer persona, customer purchase power.\n",
        "X_train = pd.merge(X_train,train_common_items_user_coupon[['id','common_items_user_coupon']],on='id', how='left')\n",
        "X_test = pd.merge(X_test,test_common_items_user_coupon[['id','common_items_user_coupon']],on='id', how='left')"
      ],
      "execution_count": 0,
      "outputs": []
    },
    {
      "cell_type": "markdown",
      "metadata": {
        "id": "z4djEj_txFVl",
        "colab_type": "text"
      },
      "source": [
        "### Creating customer id level features from customer transactions"
      ]
    },
    {
      "cell_type": "code",
      "metadata": {
        "id": "wbu79EPw561k",
        "colab_type": "code",
        "outputId": "faf65587-cd1b-4356-dfd7-3dd66d9b473e",
        "colab": {
          "base_uri": "https://localhost:8080/",
          "height": 581
        }
      },
      "source": [
        "persona_purachase_power_psudo = customer_transaction_features()\n",
        "\n",
        "# customer persona, customer purchase power.\n",
        "X_train = pd.merge(X_train,persona_purachase_power_psudo,on='customer_id', how='left')\n",
        "X_test = pd.merge(X_test,persona_purachase_power_psudo,on='customer_id', how='left')\n",
        "\n",
        "X_train.fillna(0, inplace=True)\n",
        "X_test.fillna(0, inplace=True) "
      ],
      "execution_count": 0,
      "outputs": [
        {
          "output_type": "stream",
          "text": [
            "/usr/local/lib/python3.6/dist-packages/pandas/core/groupby/generic.py:1315: FutureWarning: using a dict with renaming is deprecated and will be removed in a future version\n",
            "  return super(DataFrameGroupBy, self).aggregate(arg, *args, **kwargs)\n"
          ],
          "name": "stderr"
        },
        {
          "output_type": "stream",
          "text": [
            "selling_price_tot_purchase\n",
            "selling_price_avg_purchase\n",
            "selling_price_max_purchase\n",
            "other_discount_tot_o_discount\n",
            "other_discount_avg_o_discount\n",
            "other_discount_max_o_discount\n",
            "coupon_discount_tot_c_discount\n",
            "coupon_discount_avg_c_discount\n",
            "coupon_discount_max_c_discount\n",
            "quantity_tot_qty\n",
            "quantity_avg_qty\n",
            "quantity_max_qty\n",
            "item_id_uni_item\n",
            "Index(['customer_id', 'selling_price_tot_purchase',\n",
            "       'selling_price_avg_purchase', 'selling_price_max_purchase',\n",
            "       'other_discount_tot_o_discount', 'other_discount_avg_o_discount',\n",
            "       'other_discount_max_o_discount', 'coupon_discount_tot_c_discount',\n",
            "       'coupon_discount_avg_c_discount', 'coupon_discount_max_c_discount',\n",
            "       'quantity_tot_qty', 'quantity_avg_qty', 'quantity_max_qty',\n",
            "       'item_id_uni_item', 'selling_price_tot_purchase_bin',\n",
            "       'selling_price_avg_purchase_bin', 'selling_price_max_purchase_bin',\n",
            "       'other_discount_tot_o_discount_bin',\n",
            "       'other_discount_avg_o_discount_bin',\n",
            "       'other_discount_max_o_discount_bin',\n",
            "       'coupon_discount_tot_c_discount_bin',\n",
            "       'coupon_discount_avg_c_discount_bin',\n",
            "       'coupon_discount_max_c_discount_bin', 'quantity_tot_qty_bin',\n",
            "       'quantity_avg_qty_bin', 'quantity_max_qty_bin', 'item_id_uni_item_bin',\n",
            "       'psudo_redem'],\n",
            "      dtype='object')\n"
          ],
          "name": "stdout"
        }
      ]
    },
    {
      "cell_type": "markdown",
      "metadata": {
        "id": "ArOHoK_tK1QQ",
        "colab_type": "text"
      },
      "source": [
        "### Adding coupon num items, redemption rate and mrp's"
      ]
    },
    {
      "cell_type": "code",
      "metadata": {
        "id": "0_fRT-LnK9Wr",
        "colab_type": "code",
        "outputId": "2c0d9b64-dfa1-4921-e2e6-331c9a2800e9",
        "colab": {
          "base_uri": "https://localhost:8080/",
          "height": 71
        }
      },
      "source": [
        "coupon_features = coupon_item_count_redem_rate()\n",
        "\n",
        "# customer persona, customer purchase power.\n",
        "X_train = pd.merge(X_train,coupon_features,on='coupon_id', how='left')\n",
        "X_test = pd.merge(X_test,coupon_features,on='coupon_id', how='left')\n",
        "\n",
        "X_train.fillna(0, inplace=True)\n",
        "X_test.fillna(0, inplace=True) \n",
        "\n",
        "\n",
        "\n",
        "\n"
      ],
      "execution_count": 0,
      "outputs": [
        {
          "output_type": "stream",
          "text": [
            "/usr/local/lib/python3.6/dist-packages/pandas/core/groupby/generic.py:1315: FutureWarning: using a dict with renaming is deprecated and will be removed in a future version\n",
            "  return super(DataFrameGroupBy, self).aggregate(arg, *args, **kwargs)\n"
          ],
          "name": "stderr"
        }
      ]
    },
    {
      "cell_type": "markdown",
      "metadata": {
        "id": "YVIP9ruESwqO",
        "colab_type": "text"
      },
      "source": [
        "## customer campaign level features during the time duration of campaign."
      ]
    },
    {
      "cell_type": "code",
      "metadata": {
        "id": "sTAQELONTJCo",
        "colab_type": "code",
        "colab": {}
      },
      "source": [
        "base_directory = \"/content/drive/My Drive/personal_hackathons/DataSet/amex/train/cleaned_data/campaign_customer_features/\"\n",
        "transac_till_start_cust_camp= pd.read_csv(base_directory + \"transactions_by_customer_till_campaign_start_features.csv\")\n",
        "transac_during_start_cust_camp= pd.read_csv(base_directory + \"transactions_by_customer_during_similar_period_as_campaign_features_in_history.csv\")\n",
        "\n",
        "# customer persona, customer purchase power.\n",
        "X_train = pd.merge(X_train,transac_till_start_cust_camp,on=['campaign_id','customer_id'], how='left')\n",
        "X_train = pd.merge(X_train,transac_during_start_cust_camp,on=['campaign_id','customer_id'], how='left')\n",
        "\n",
        "X_train.fillna(0, inplace=True)\n",
        "\n",
        "X_test = pd.merge(X_test,transac_till_start_cust_camp,on=['campaign_id','customer_id'], how='left')\n",
        "X_test = pd.merge(X_test,transac_during_start_cust_camp,on=['campaign_id','customer_id'], how='left')\n",
        "\n",
        "X_test.fillna(0, inplace=True) \n",
        "\n",
        "\n"
      ],
      "execution_count": 0,
      "outputs": []
    },
    {
      "cell_type": "markdown",
      "metadata": {
        "id": "A7LNccMv0qRG",
        "colab_type": "text"
      },
      "source": [
        "## coupon customer intersection based more features"
      ]
    },
    {
      "cell_type": "code",
      "metadata": {
        "id": "JpM4g7dW0xVN",
        "colab_type": "code",
        "outputId": "2c179a55-ecfa-4777-b766-1326e3e81867",
        "colab": {
          "base_uri": "https://localhost:8080/",
          "height": 51
        }
      },
      "source": [
        "base_directory1 = \"/content/drive/My Drive/personal_hackathons/DataSet/amex/train/cleaned_data/customer_coupon_intersection_features/\"\n",
        "customer_coupon_intersection_features= pd.read_csv(base_directory1 + \"customer_coupon_intersection_features_1.csv\")\n",
        "customer_coupon_intersection_features.drop_duplicates()\n",
        "print (X_train.shape, X_test.shape)\n",
        "# customer persona, customer purchase power.\n",
        "X_train = pd.merge(X_train,customer_coupon_intersection_features,on=['coupon_id','customer_id'], how='left')\n",
        "X_test = pd.merge(X_test,customer_coupon_intersection_features,on=['coupon_id','customer_id'], how='left')\n",
        "\n",
        "X_train.fillna(0, inplace=True)\n",
        "X_test.fillna(0, inplace=True)\n",
        "print (X_train.shape, X_test.shape)\n",
        "\n"
      ],
      "execution_count": 0,
      "outputs": [
        {
          "output_type": "stream",
          "text": [
            "(78369, 63) (50226, 63)\n",
            "(78369, 69) (50226, 69)\n"
          ],
          "name": "stdout"
        }
      ]
    },
    {
      "cell_type": "markdown",
      "metadata": {
        "id": "9D0Y7fCSDyY8",
        "colab_type": "text"
      },
      "source": [
        "### brand type bent features"
      ]
    },
    {
      "cell_type": "code",
      "metadata": {
        "id": "5LefgcK_DxlI",
        "colab_type": "code",
        "outputId": "5749d405-ba50-4ba4-e118-d3c4a870e8b1",
        "colab": {
          "base_uri": "https://localhost:8080/",
          "height": 51
        }
      },
      "source": [
        "base_directory1 = \"/content/drive/My Drive/personal_hackathons/DataSet/amex/train/cleaned_data/brand_type_bent_features/\"\n",
        "\n",
        "customer_brand_type_preference_features= pd.read_csv(base_directory1 + \"customer_brand_type_preference_features.csv\")\n",
        "\n",
        "print (X_train.shape, X_test.shape)\n",
        "X_train = pd.merge(X_train,customer_brand_type_preference_features,on=['customer_id'], how='left')\n",
        "X_test = pd.merge(X_test,customer_brand_type_preference_features,on=['customer_id'], how='left')\n",
        "\n",
        "\n",
        "\n",
        "coupon_brand_type_bent_features= pd.read_csv(base_directory1 + \"coupon_brand_type_bent_features_1.csv\")\n",
        "X_train = pd.merge(X_train,coupon_brand_type_bent_features,on=['coupon_id'], how='left')\n",
        "X_test = pd.merge(X_test,coupon_brand_type_bent_features,on=['coupon_id'], how='left')\n",
        "\n",
        "X_train.fillna(0, inplace=True)\n",
        "X_test.fillna(0, inplace=True)\n",
        "print (X_train.shape, X_test.shape)"
      ],
      "execution_count": 0,
      "outputs": [
        {
          "output_type": "stream",
          "text": [
            "(78369, 69) (50226, 69)\n",
            "(78369, 71) (50226, 71)\n"
          ],
          "name": "stdout"
        }
      ]
    },
    {
      "cell_type": "markdown",
      "metadata": {
        "id": "YIg8CpSQLC0P",
        "colab_type": "text"
      },
      "source": [
        "### Including Customer Coupons common number of items with only discounted"
      ]
    },
    {
      "cell_type": "code",
      "metadata": {
        "id": "PmZ0x0leLLOk",
        "colab_type": "code",
        "outputId": "0ec582d2-2613-4ef3-c279-790922de1062",
        "colab": {
          "base_uri": "https://localhost:8080/",
          "height": 34
        }
      },
      "source": [
        "ba_dir = \"/content/drive/My Drive/personal_hackathons/AMEX/\"\n",
        "features_to_be_picked = ['id', 'common_items_with_disc', 'common_items_with_disc_ratio']\n",
        "\n",
        "train_common_items_user_coupon= pd.read_csv(ba_dir + \"train_coupon_consumer_price_data_1.csv\")\n",
        "test_common_items_user_coupon= pd.read_csv(ba_dir + \"test_coupon_consumer_price_data_1.csv\")\n",
        "\n",
        "# customer persona, customer purchase power.\n",
        "X_train = pd.merge(X_train,train_common_items_user_coupon[features_to_be_picked],on='id', how='left')\n",
        "X_test = pd.merge(X_test,test_common_items_user_coupon[features_to_be_picked],on='id', how='left')\n",
        "# test_common_items_user_coupon.shape, train_common_items_user_coupon.shape\n",
        "\n",
        "# X_train.fillna(0, inplace=True)\n",
        "# X_test.fillna(0, inplace=True)\n",
        "print (X_train.shape, X_test.shape)\n"
      ],
      "execution_count": 0,
      "outputs": [
        {
          "output_type": "stream",
          "text": [
            "(78369, 73) (50226, 73)\n"
          ],
          "name": "stdout"
        }
      ]
    },
    {
      "cell_type": "markdown",
      "metadata": {
        "id": "pj0QbfDlQAn0",
        "colab_type": "text"
      },
      "source": [
        "\n",
        "## coupon redemption customer redemption till date"
      ]
    },
    {
      "cell_type": "code",
      "metadata": {
        "id": "8d_CTmzjQJN7",
        "colab_type": "code",
        "outputId": "dd3c32a5-dd98-42b8-d492-46b7785bb7e5",
        "colab": {
          "base_uri": "https://localhost:8080/",
          "height": 51
        }
      },
      "source": [
        "base_directory1 = \"/content/drive/My Drive/personal_hackathons/DataSet/amex/train/cleaned_data/pranshu_features/\"\n",
        "\n",
        "campaign_coupon_redemption_record_feature= pd.read_csv(base_directory1 + \"campaign_coupon_redemption_record_feature.csv\")\n",
        "\n",
        "print (X_train.shape, X_test.shape)\n",
        "X_train = pd.merge(X_train,campaign_coupon_redemption_record_feature,on=['campaign_id', 'coupon_id'], how='left')\n",
        "X_test = pd.merge(X_test,campaign_coupon_redemption_record_feature,on=['campaign_id', 'coupon_id'], how='left')\n",
        "\n",
        "\n",
        "\n",
        "customer_redemption_record_till_campaign_start_feature= pd.read_csv(base_directory1 + \"customer_redemption_record_till_campaign_start_feature.csv\")\n",
        "X_train = pd.merge(X_train,customer_redemption_record_till_campaign_start_feature,on=['campaign_id', 'customer_id'], how='left')\n",
        "X_test = pd.merge(X_test,customer_redemption_record_till_campaign_start_feature,on=['campaign_id', 'customer_id'], how='left')\n",
        "\n",
        "X_train.fillna(0, inplace=True)\n",
        "X_test.fillna(0, inplace=True)\n",
        "print (X_train.shape, X_test.shape)\n",
        "\n",
        "identifier_columns = ['id','campaign_id','coupon_id','customer_id']\n",
        "# id dropping\n",
        "X_train = X_train.drop(identifier_columns,axis=1)\n",
        "X_test = X_test.drop(identifier_columns,axis=1)"
      ],
      "execution_count": 0,
      "outputs": [
        {
          "output_type": "stream",
          "text": [
            "(78369, 73) (50226, 73)\n",
            "(78369, 75) (50226, 75)\n"
          ],
          "name": "stdout"
        }
      ]
    },
    {
      "cell_type": "markdown",
      "metadata": {
        "id": "ejMyVG9PrJc9",
        "colab_type": "text"
      },
      "source": [
        "### Dropping high correlated features"
      ]
    },
    {
      "cell_type": "code",
      "metadata": {
        "id": "elsP4z7arIYO",
        "colab_type": "code",
        "colab": {}
      },
      "source": [
        "# ## Dropping correlated features\n",
        "# # Create correlation matrix\n",
        "# corr_matrix = X_train[numerical_features].corr().abs()\n",
        "\n",
        "# # Select upper triangle of correlation matrix\n",
        "# upper = corr_matrix.where(np.triu(np.ones(corr_matrix.shape), k=1).astype(np.bool))\n",
        "\n",
        "# # Find index of feature columns with correlation greater than 0.8\n",
        "# to_drop = [column for column in upper.columns if any(upper[column] > 0.95)]\n",
        "# to_drop\n",
        "# X_train = X_train.drop(X_train[to_drop], axis=1)\n",
        "# X_test = X_test.drop(X_test[to_drop], axis=1)"
      ],
      "execution_count": 0,
      "outputs": []
    },
    {
      "cell_type": "code",
      "metadata": {
        "id": "5pI1u6uqOr5_",
        "colab_type": "code",
        "colab": {}
      },
      "source": [
        "# base_directory_high = \"/content/drive/My Drive/personal_hackathons/AMEX/high_auc_features/\"\n",
        "# X_train.to_csv(base_directory_high + \"x_train.csv\",index=False)\n",
        "# X_test.to_csv(base_directory_high + \"x_test.csv\",index=False)\n",
        "# y_train.to_csv(base_directory_high + \"y_train.csv\",index=False)"
      ],
      "execution_count": 0,
      "outputs": []
    },
    {
      "cell_type": "code",
      "metadata": {
        "id": "qw9aSnuW3dqg",
        "colab_type": "code",
        "outputId": "3536c946-5fa5-4f80-ad4d-4588a1f763e0",
        "colab": {
          "base_uri": "https://localhost:8080/",
          "height": 34
        }
      },
      "source": [
        "y_train.shape"
      ],
      "execution_count": 0,
      "outputs": [
        {
          "output_type": "execute_result",
          "data": {
            "text/plain": [
              "(78369, 1)"
            ]
          },
          "metadata": {
            "tags": []
          },
          "execution_count": 385
        }
      ]
    },
    {
      "cell_type": "code",
      "metadata": {
        "id": "1C1gHCafLvkX",
        "colab_type": "code",
        "outputId": "cbfee519-e96c-482f-9ed8-e7c8f637e97f",
        "colab": {
          "base_uri": "https://localhost:8080/",
          "height": 224
        }
      },
      "source": [
        "X_test.head()"
      ],
      "execution_count": 0,
      "outputs": [
        {
          "output_type": "execute_result",
          "data": {
            "text/html": [
              "<div>\n",
              "<style scoped>\n",
              "    .dataframe tbody tr th:only-of-type {\n",
              "        vertical-align: middle;\n",
              "    }\n",
              "\n",
              "    .dataframe tbody tr th {\n",
              "        vertical-align: top;\n",
              "    }\n",
              "\n",
              "    .dataframe thead th {\n",
              "        text-align: right;\n",
              "    }\n",
              "</style>\n",
              "<table border=\"1\" class=\"dataframe\">\n",
              "  <thead>\n",
              "    <tr style=\"text-align: right;\">\n",
              "      <th></th>\n",
              "      <th>duration_in_days</th>\n",
              "      <th>same_type_overlapping_campaigns</th>\n",
              "      <th>other_type_overlapping_campaigns</th>\n",
              "      <th>same_type_overlap_duration</th>\n",
              "      <th>other_type_overlap_duration</th>\n",
              "      <th>number_of_weekends</th>\n",
              "      <th>Jan</th>\n",
              "      <th>Feb</th>\n",
              "      <th>Mar</th>\n",
              "      <th>Apr</th>\n",
              "      <th>May</th>\n",
              "      <th>Jun</th>\n",
              "      <th>Jul</th>\n",
              "      <th>Aug</th>\n",
              "      <th>Sep</th>\n",
              "      <th>Oct</th>\n",
              "      <th>Nov</th>\n",
              "      <th>Dec</th>\n",
              "      <th>campaign_type_X</th>\n",
              "      <th>campaign_type_Y</th>\n",
              "      <th>num_visits</th>\n",
              "      <th>num_campaign_targeted</th>\n",
              "      <th>num_coupons_posses</th>\n",
              "      <th>redemption_status</th>\n",
              "      <th>customer_redem_rate</th>\n",
              "      <th>common_items_user_coupon</th>\n",
              "      <th>selling_price_tot_purchase</th>\n",
              "      <th>selling_price_avg_purchase</th>\n",
              "      <th>selling_price_max_purchase</th>\n",
              "      <th>other_discount_tot_o_discount</th>\n",
              "      <th>other_discount_avg_o_discount</th>\n",
              "      <th>other_discount_max_o_discount</th>\n",
              "      <th>coupon_discount_tot_c_discount</th>\n",
              "      <th>coupon_discount_avg_c_discount</th>\n",
              "      <th>coupon_discount_max_c_discount</th>\n",
              "      <th>quantity_tot_qty</th>\n",
              "      <th>quantity_avg_qty</th>\n",
              "      <th>quantity_max_qty</th>\n",
              "      <th>item_id_uni_item</th>\n",
              "      <th>psudo_redem</th>\n",
              "      <th>tot_item_in_coupon</th>\n",
              "      <th>coupon_redemption_rate</th>\n",
              "      <th>median_mrp</th>\n",
              "      <th>std_mean_mrp</th>\n",
              "      <th>std_mrp</th>\n",
              "      <th>no_of_transactions_by_customer_till_campaign_start</th>\n",
              "      <th>percentage_of_transactions_by_customer_till_campaign_start_with_any_discount</th>\n",
              "      <th>percentage_of_transactions_by_customer_till_campaign_start_with_coupon_discount</th>\n",
              "      <th>transaction_amount_by_customer_till_campaign_start</th>\n",
              "      <th>transaction_amount_by_customer_till_campaign_start_where_customer_got_any_discount</th>\n",
              "      <th>transaction_amount_by_customer_till_campaign_start_where_customer_got_coupon_discount</th>\n",
              "      <th>average_percent_discount_by_customer_till_campaign_start</th>\n",
              "      <th>no_of_transactions_by_customer_for_similar_period</th>\n",
              "      <th>percentage_of_transactions_by_customer_for_similar_period_with_any_discount</th>\n",
              "      <th>percentage_of_transactions_by_customer_for_similar_period_with_coupon_discount</th>\n",
              "      <th>transaction_amount_by_customer_for_similar_period</th>\n",
              "      <th>transaction_amount_by_customer_for_similar_period_where_customer_got_any_discount</th>\n",
              "      <th>transaction_amount_by_customer_for_similar_period_where_customer_got_coupon_discount</th>\n",
              "      <th>average_percent_discount_by_customer_for_similar_period</th>\n",
              "      <th>no_of_item_ids_purchased_by_customer_and_covered_by_coupon</th>\n",
              "      <th>no_of_brands_purchased_by_customer_and_covered_by_coupon</th>\n",
              "      <th>no_of_categories_purchased_by_customer_and_covered_by_coupon</th>\n",
              "      <th>percent_of_item_ids_purchased_by_customer_and_covered_by_coupon</th>\n",
              "      <th>percent_of_brands_purchased_by_customer_and_covered_by_coupon</th>\n",
              "      <th>percent_of_categories_purchased_by_customer_and_covered_by_coupon</th>\n",
              "    </tr>\n",
              "  </thead>\n",
              "  <tbody>\n",
              "    <tr>\n",
              "      <th>0</th>\n",
              "      <td>33</td>\n",
              "      <td>1</td>\n",
              "      <td>4</td>\n",
              "      <td>19</td>\n",
              "      <td>33</td>\n",
              "      <td>8</td>\n",
              "      <td>0</td>\n",
              "      <td>0</td>\n",
              "      <td>0</td>\n",
              "      <td>0</td>\n",
              "      <td>0</td>\n",
              "      <td>0</td>\n",
              "      <td>0</td>\n",
              "      <td>0</td>\n",
              "      <td>1</td>\n",
              "      <td>1</td>\n",
              "      <td>0</td>\n",
              "      <td>0</td>\n",
              "      <td>1.0</td>\n",
              "      <td>0.0</td>\n",
              "      <td>77.0</td>\n",
              "      <td>5.0</td>\n",
              "      <td>71.0</td>\n",
              "      <td>3.0</td>\n",
              "      <td>0.038961</td>\n",
              "      <td>7</td>\n",
              "      <td>156733.77</td>\n",
              "      <td>115.076189</td>\n",
              "      <td>1558.73</td>\n",
              "      <td>-16292.99</td>\n",
              "      <td>-11.962548</td>\n",
              "      <td>-160.29</td>\n",
              "      <td>-2111.86</td>\n",
              "      <td>-1.550558</td>\n",
              "      <td>-89.05</td>\n",
              "      <td>16644</td>\n",
              "      <td>12.220264</td>\n",
              "      <td>15095</td>\n",
              "      <td>658</td>\n",
              "      <td>81</td>\n",
              "      <td>72</td>\n",
              "      <td>0.000000</td>\n",
              "      <td>0.0000</td>\n",
              "      <td>0.000000</td>\n",
              "      <td>0.000000</td>\n",
              "      <td>1362.0</td>\n",
              "      <td>0.472834</td>\n",
              "      <td>0.059471</td>\n",
              "      <td>175138.62</td>\n",
              "      <td>87679.28</td>\n",
              "      <td>15134.82</td>\n",
              "      <td>-0.104584</td>\n",
              "      <td>125.0</td>\n",
              "      <td>0.512000</td>\n",
              "      <td>0.016000</td>\n",
              "      <td>17113.17</td>\n",
              "      <td>9810.43</td>\n",
              "      <td>1156.93</td>\n",
              "      <td>-0.105957</td>\n",
              "      <td>7.0</td>\n",
              "      <td>1.0</td>\n",
              "      <td>1.0</td>\n",
              "      <td>0.001520</td>\n",
              "      <td>0.004695</td>\n",
              "      <td>0.076923</td>\n",
              "    </tr>\n",
              "    <tr>\n",
              "      <th>1</th>\n",
              "      <td>71</td>\n",
              "      <td>5</td>\n",
              "      <td>2</td>\n",
              "      <td>71</td>\n",
              "      <td>42</td>\n",
              "      <td>21</td>\n",
              "      <td>0</td>\n",
              "      <td>0</td>\n",
              "      <td>0</td>\n",
              "      <td>0</td>\n",
              "      <td>0</td>\n",
              "      <td>0</td>\n",
              "      <td>0</td>\n",
              "      <td>0</td>\n",
              "      <td>1</td>\n",
              "      <td>1</td>\n",
              "      <td>1</td>\n",
              "      <td>0</td>\n",
              "      <td>0.0</td>\n",
              "      <td>1.0</td>\n",
              "      <td>54.0</td>\n",
              "      <td>5.0</td>\n",
              "      <td>54.0</td>\n",
              "      <td>0.0</td>\n",
              "      <td>0.000000</td>\n",
              "      <td>2</td>\n",
              "      <td>297070.87</td>\n",
              "      <td>111.638809</td>\n",
              "      <td>3561.29</td>\n",
              "      <td>-32760.94</td>\n",
              "      <td>-12.311514</td>\n",
              "      <td>-160.29</td>\n",
              "      <td>-1489.97</td>\n",
              "      <td>-0.559929</td>\n",
              "      <td>-177.39</td>\n",
              "      <td>282396</td>\n",
              "      <td>106.124014</td>\n",
              "      <td>21222</td>\n",
              "      <td>1214</td>\n",
              "      <td>31</td>\n",
              "      <td>33</td>\n",
              "      <td>0.000000</td>\n",
              "      <td>177.7405</td>\n",
              "      <td>63.444772</td>\n",
              "      <td>9.342242</td>\n",
              "      <td>2661.0</td>\n",
              "      <td>0.429538</td>\n",
              "      <td>0.011650</td>\n",
              "      <td>331321.78</td>\n",
              "      <td>173368.07</td>\n",
              "      <td>7958.54</td>\n",
              "      <td>-0.099968</td>\n",
              "      <td>535.0</td>\n",
              "      <td>0.442991</td>\n",
              "      <td>0.001869</td>\n",
              "      <td>58819.71</td>\n",
              "      <td>29357.38</td>\n",
              "      <td>622.99</td>\n",
              "      <td>-0.089495</td>\n",
              "      <td>2.0</td>\n",
              "      <td>1.0</td>\n",
              "      <td>1.0</td>\n",
              "      <td>0.000824</td>\n",
              "      <td>0.003413</td>\n",
              "      <td>0.066667</td>\n",
              "    </tr>\n",
              "    <tr>\n",
              "      <th>2</th>\n",
              "      <td>33</td>\n",
              "      <td>1</td>\n",
              "      <td>4</td>\n",
              "      <td>19</td>\n",
              "      <td>33</td>\n",
              "      <td>8</td>\n",
              "      <td>0</td>\n",
              "      <td>0</td>\n",
              "      <td>0</td>\n",
              "      <td>0</td>\n",
              "      <td>0</td>\n",
              "      <td>0</td>\n",
              "      <td>0</td>\n",
              "      <td>0</td>\n",
              "      <td>1</td>\n",
              "      <td>1</td>\n",
              "      <td>0</td>\n",
              "      <td>0</td>\n",
              "      <td>1.0</td>\n",
              "      <td>0.0</td>\n",
              "      <td>112.0</td>\n",
              "      <td>6.0</td>\n",
              "      <td>109.0</td>\n",
              "      <td>7.0</td>\n",
              "      <td>0.062500</td>\n",
              "      <td>0</td>\n",
              "      <td>161811.27</td>\n",
              "      <td>98.545231</td>\n",
              "      <td>1459.71</td>\n",
              "      <td>-39450.39</td>\n",
              "      <td>-24.025816</td>\n",
              "      <td>-583.81</td>\n",
              "      <td>-2384.75</td>\n",
              "      <td>-1.452345</td>\n",
              "      <td>-178.10</td>\n",
              "      <td>181500</td>\n",
              "      <td>110.535932</td>\n",
              "      <td>10532</td>\n",
              "      <td>1019</td>\n",
              "      <td>56</td>\n",
              "      <td>19</td>\n",
              "      <td>2.884615</td>\n",
              "      <td>95.8100</td>\n",
              "      <td>20.638556</td>\n",
              "      <td>6.125467</td>\n",
              "      <td>1642.0</td>\n",
              "      <td>0.549330</td>\n",
              "      <td>0.034105</td>\n",
              "      <td>203646.41</td>\n",
              "      <td>138942.35</td>\n",
              "      <td>12648.98</td>\n",
              "      <td>-0.164874</td>\n",
              "      <td>67.0</td>\n",
              "      <td>0.522388</td>\n",
              "      <td>0.074627</td>\n",
              "      <td>9029.77</td>\n",
              "      <td>6320.43</td>\n",
              "      <td>1045.79</td>\n",
              "      <td>-0.158437</td>\n",
              "      <td>0.0</td>\n",
              "      <td>0.0</td>\n",
              "      <td>1.0</td>\n",
              "      <td>0.000000</td>\n",
              "      <td>0.000000</td>\n",
              "      <td>0.090909</td>\n",
              "    </tr>\n",
              "    <tr>\n",
              "      <th>3</th>\n",
              "      <td>33</td>\n",
              "      <td>3</td>\n",
              "      <td>0</td>\n",
              "      <td>33</td>\n",
              "      <td>0</td>\n",
              "      <td>8</td>\n",
              "      <td>0</td>\n",
              "      <td>0</td>\n",
              "      <td>0</td>\n",
              "      <td>0</td>\n",
              "      <td>0</td>\n",
              "      <td>0</td>\n",
              "      <td>0</td>\n",
              "      <td>0</td>\n",
              "      <td>0</td>\n",
              "      <td>1</td>\n",
              "      <td>1</td>\n",
              "      <td>0</td>\n",
              "      <td>0.0</td>\n",
              "      <td>1.0</td>\n",
              "      <td>52.0</td>\n",
              "      <td>3.0</td>\n",
              "      <td>52.0</td>\n",
              "      <td>0.0</td>\n",
              "      <td>0.000000</td>\n",
              "      <td>0</td>\n",
              "      <td>49149.16</td>\n",
              "      <td>85.775148</td>\n",
              "      <td>1638.16</td>\n",
              "      <td>-7705.95</td>\n",
              "      <td>-13.448429</td>\n",
              "      <td>-356.20</td>\n",
              "      <td>0.00</td>\n",
              "      <td>0.000000</td>\n",
              "      <td>0.00</td>\n",
              "      <td>22196</td>\n",
              "      <td>38.736475</td>\n",
              "      <td>5003</td>\n",
              "      <td>323</td>\n",
              "      <td>0</td>\n",
              "      <td>74</td>\n",
              "      <td>0.000000</td>\n",
              "      <td>0.0000</td>\n",
              "      <td>0.000000</td>\n",
              "      <td>0.000000</td>\n",
              "      <td>573.0</td>\n",
              "      <td>0.443281</td>\n",
              "      <td>0.000000</td>\n",
              "      <td>56855.11</td>\n",
              "      <td>28923.01</td>\n",
              "      <td>0.00</td>\n",
              "      <td>-0.119744</td>\n",
              "      <td>21.0</td>\n",
              "      <td>0.142857</td>\n",
              "      <td>0.000000</td>\n",
              "      <td>1597.17</td>\n",
              "      <td>333.75</td>\n",
              "      <td>0.00</td>\n",
              "      <td>-0.033433</td>\n",
              "      <td>0.0</td>\n",
              "      <td>0.0</td>\n",
              "      <td>1.0</td>\n",
              "      <td>0.000000</td>\n",
              "      <td>0.000000</td>\n",
              "      <td>0.125000</td>\n",
              "    </tr>\n",
              "    <tr>\n",
              "      <th>4</th>\n",
              "      <td>33</td>\n",
              "      <td>2</td>\n",
              "      <td>1</td>\n",
              "      <td>24</td>\n",
              "      <td>21</td>\n",
              "      <td>8</td>\n",
              "      <td>0</td>\n",
              "      <td>0</td>\n",
              "      <td>0</td>\n",
              "      <td>0</td>\n",
              "      <td>0</td>\n",
              "      <td>0</td>\n",
              "      <td>1</td>\n",
              "      <td>1</td>\n",
              "      <td>0</td>\n",
              "      <td>0</td>\n",
              "      <td>0</td>\n",
              "      <td>0</td>\n",
              "      <td>0.0</td>\n",
              "      <td>1.0</td>\n",
              "      <td>33.0</td>\n",
              "      <td>2.0</td>\n",
              "      <td>33.0</td>\n",
              "      <td>0.0</td>\n",
              "      <td>0.000000</td>\n",
              "      <td>0</td>\n",
              "      <td>117044.09</td>\n",
              "      <td>88.736990</td>\n",
              "      <td>1281.96</td>\n",
              "      <td>-19214.01</td>\n",
              "      <td>-14.567104</td>\n",
              "      <td>-400.37</td>\n",
              "      <td>-89.04</td>\n",
              "      <td>-0.067506</td>\n",
              "      <td>-35.62</td>\n",
              "      <td>1729</td>\n",
              "      <td>1.310842</td>\n",
              "      <td>20</td>\n",
              "      <td>720</td>\n",
              "      <td>3</td>\n",
              "      <td>18</td>\n",
              "      <td>0.000000</td>\n",
              "      <td>0.0000</td>\n",
              "      <td>0.000000</td>\n",
              "      <td>0.000000</td>\n",
              "      <td>1319.0</td>\n",
              "      <td>0.450341</td>\n",
              "      <td>0.002274</td>\n",
              "      <td>136347.14</td>\n",
              "      <td>74048.81</td>\n",
              "      <td>617.64</td>\n",
              "      <td>-0.108141</td>\n",
              "      <td>79.0</td>\n",
              "      <td>0.455696</td>\n",
              "      <td>0.000000</td>\n",
              "      <td>6125.54</td>\n",
              "      <td>3659.59</td>\n",
              "      <td>0.00</td>\n",
              "      <td>-0.098625</td>\n",
              "      <td>0.0</td>\n",
              "      <td>1.0</td>\n",
              "      <td>1.0</td>\n",
              "      <td>0.001389</td>\n",
              "      <td>0.004785</td>\n",
              "      <td>0.090909</td>\n",
              "    </tr>\n",
              "  </tbody>\n",
              "</table>\n",
              "</div>"
            ],
            "text/plain": [
              "   duration_in_days  ...  percent_of_categories_purchased_by_customer_and_covered_by_coupon\n",
              "0                33  ...                                           0.076923                \n",
              "1                71  ...                                           0.066667                \n",
              "2                33  ...                                           0.090909                \n",
              "3                33  ...                                           0.125000                \n",
              "4                33  ...                                           0.090909                \n",
              "\n",
              "[5 rows x 65 columns]"
            ]
          },
          "metadata": {
            "tags": []
          },
          "execution_count": 373
        }
      ]
    },
    {
      "cell_type": "code",
      "metadata": {
        "id": "SXoTXOPZNVIo",
        "colab_type": "code",
        "outputId": "cd9e1985-262e-48b0-d042-c42df6ecfd4f",
        "colab": {
          "base_uri": "https://localhost:8080/",
          "height": 102
        }
      },
      "source": [
        "\n",
        "# # coupons item counts\n",
        "# X_train = pd.merge(X_train,coupon_item_mapping_features,on='coupon_id', how='left')\n",
        "# X_test = pd.merge(X_test,coupon_item_mapping_features,on='coupon_id', how='left')\n",
        "\n",
        "# # coupon redem rate\n",
        "# X_train = pd.merge(X_train, coupon_redem_rate_features[['coupon_id','coupon_redemption_rate']],on='coupon_id', how='left')\n",
        "# X_test = pd.merge(X_test,coupon_redem_rate_features[['coupon_id','coupon_redemption_rate']],on='coupon_id', how='left')\n",
        "# identifier_columns = ['id','campaign_id','coupon_id','customer_id','visit_bins']\n",
        "# # id dropping\n",
        "# X_train = X_train.drop(identifier_columns,axis=1)\n",
        "# X_test = X_test.drop(identifier_columns,axis=1)\n",
        "# numerical_features = ['selling_price_tot_purchase', 'selling_price_avg_purchase','selling_price_max_purchase', 'other_discount_tot_o_discount','other_discount_avg_o_discount', 'other_discount_max_o_discount',\n",
        "#                       'coupon_discount_tot_c_discount', 'coupon_discount_avg_c_discount','coupon_discount_max_c_discount', 'quantity_tot_qty',\n",
        "#                       'quantity_avg_qty', 'quantity_max_qty', 'item_id_uni_item',\n",
        "#                       'num_visits', 'num_campaign_targeted', 'num_coupons_posses',\n",
        "#                       'psudo_redem', 'duration_in_days', 'same_type_overlapping_campaigns',\n",
        "#                       'other_type_overlapping_campaigns', 'same_type_overlap_duration',\n",
        "#                       'other_type_overlap_duration', 'number_of_weekends', 'Jan', 'Feb',\n",
        "#                       'Mar', 'Apr', 'May', 'Jun', 'Jul', 'Aug', 'Sep', 'Oct', 'Nov', 'Dec','campaign_type_X', 'campaign_type_Y',\n",
        "#                       'tot_item_in_coupon', 'coupon_redemption_rate']\n",
        "#        # What is prob?\n",
        "# categorical_features =  ['selling_price_tot_purchase_bin', 'selling_price_avg_purchase_bin',\n",
        "#                 'selling_price_max_purchase_bin', 'other_discount_tot_o_discount_bin',\n",
        "#                 'other_discount_avg_o_discount_bin',\n",
        "#                 'other_discount_max_o_discount_bin',\n",
        "#                 'coupon_discount_tot_c_discount_bin',\n",
        "#                 'coupon_discount_avg_c_discount_bin','coupon_discount_max_c_discount_bin', 'quantity_tot_qty_bin',\n",
        "#                'quantity_avg_qty_bin', 'quantity_max_qty_bin', 'item_id_uni_item_bin']\n",
        "# X_train[numerical_features].fillna(0, inplace=True)\n",
        "# X_test[numerical_features].fillna(0, inplace=True) \n",
        "# X_train[categorical_features].fillna('b1', inplace =True)\n",
        "# X_train[categorical_features].fillna('b1', inplace =True)\n",
        "# X_train.head()\n",
        "# X_tr_train, X_tr_test, y_tr_train, y_tr_test = train_test_split( X_train, y_train, test_size=0.33, random_state=42, stratify=y_train)\n",
        "# ## Dropping correlated features\n",
        "# # Create correlation matrix\n",
        "# corr_matrix = X_train[numerical_features].corr().abs()\n",
        "\n",
        "# # Select upper triangle of correlation matrix\n",
        "# upper = corr_matrix.where(np.triu(np.ones(corr_matrix.shape), k=1).astype(np.bool))\n",
        "\n",
        "# # Find index of feature columns with correlation greater than 0.8\n",
        "# to_drop = [column for column in upper.columns if any(upper[column] > 0.95)]\n",
        "# to_drop\n",
        "# X_train = X_train.drop(X_train[to_drop], axis=1)\n",
        "# X_test = X_test.drop(X_test[to_drop], axis=1)"
      ],
      "execution_count": 0,
      "outputs": [
        {
          "output_type": "stream",
          "text": [
            "/usr/local/lib/python3.6/dist-packages/pandas/core/frame.py:4034: SettingWithCopyWarning: \n",
            "A value is trying to be set on a copy of a slice from a DataFrame\n",
            "\n",
            "See the caveats in the documentation: http://pandas.pydata.org/pandas-docs/stable/indexing.html#indexing-view-versus-copy\n",
            "  downcast=downcast, **kwargs)\n"
          ],
          "name": "stderr"
        }
      ]
    },
    {
      "cell_type": "code",
      "metadata": {
        "id": "Yesa4Ty0uHeT",
        "colab_type": "code",
        "outputId": "3f0773da-5baa-46e0-b9a0-51d0adb54f94",
        "colab": {
          "base_uri": "https://localhost:8080/",
          "height": 442
        }
      },
      "source": [
        "# from sklearn import preprocessing\n",
        "# min_max_scaler = preprocessing.MinMaxScaler()\n",
        "# ['selling_price_tot_purchase', 'selling_price_avg_purchase',\n",
        "#        'selling_price_max_purchase', 'other_discount_avg_o_discount',\n",
        "#        'other_discount_max_o_discount', 'quantity_tot_qty', 'quantity_avg_qty',\n",
        "#        'selling_price_tot_purchase_bin', 'selling_price_avg_purchase_bin',\n",
        "#        'selling_price_max_purchase_bin', 'other_discount_tot_o_discount_bin',\n",
        "#        'other_discount_avg_o_discount_bin',\n",
        "#        'other_discount_max_o_discount_bin', 'quantity_tot_qty_bin',\n",
        "#        'quantity_avg_qty_bin', 'quantity_max_qty_bin', 'item_id_uni_item_bin',\n",
        "#        'num_visits', 'duration_in_days', 'same_type_overlapping_campaigns',\n",
        "#        'other_type_overlapping_campaigns', 'same_type_overlap_duration', 'Jan',\n",
        "#        'Feb', 'May', 'Oct', 'Nov']\n",
        "# min_max_scaler.fit(X_train.append(X_test))\n",
        "X_train.columns"
      ],
      "execution_count": 0,
      "outputs": [
        {
          "output_type": "execute_result",
          "data": {
            "text/plain": [
              "Index(['duration_in_days', 'same_type_overlapping_campaigns',\n",
              "       'other_type_overlapping_campaigns', 'same_type_overlap_duration',\n",
              "       'other_type_overlap_duration', 'number_of_weekends', 'Jan', 'Feb',\n",
              "       'Mar', 'Apr', 'May', 'Jun', 'Jul', 'Aug', 'Sep', 'Oct', 'Nov', 'Dec',\n",
              "       'campaign_type_X', 'campaign_type_Y', 'num_visits_x',\n",
              "       'num_campaign_targeted_x', 'num_coupons_posses_x',\n",
              "       'redemption_status_x', 'customer_redem_rate_x',\n",
              "       'common_items_user_coupon', 'selling_price_tot_purchase',\n",
              "       'selling_price_avg_purchase', 'selling_price_max_purchase',\n",
              "       'other_discount_tot_o_discount', 'other_discount_avg_o_discount',\n",
              "       'other_discount_max_o_discount', 'coupon_discount_tot_c_discount',\n",
              "       'coupon_discount_avg_c_discount', 'coupon_discount_max_c_discount',\n",
              "       'quantity_tot_qty', 'quantity_avg_qty', 'quantity_max_qty',\n",
              "       'item_id_uni_item', 'selling_price_tot_purchase_bin',\n",
              "       'selling_price_avg_purchase_bin', 'selling_price_max_purchase_bin',\n",
              "       'other_discount_tot_o_discount_bin',\n",
              "       'other_discount_avg_o_discount_bin',\n",
              "       'other_discount_max_o_discount_bin',\n",
              "       'coupon_discount_tot_c_discount_bin',\n",
              "       'coupon_discount_avg_c_discount_bin',\n",
              "       'coupon_discount_max_c_discount_bin', 'quantity_tot_qty_bin',\n",
              "       'quantity_avg_qty_bin', 'quantity_max_qty_bin', 'item_id_uni_item_bin',\n",
              "       'num_visits_y', 'num_campaign_targeted_y', 'num_coupons_posses_y',\n",
              "       'redemption_status_y', 'customer_redem_rate_y', 'psudo_redem'],\n",
              "      dtype='object')"
            ]
          },
          "metadata": {
            "tags": []
          },
          "execution_count": 160
        }
      ]
    },
    {
      "cell_type": "code",
      "metadata": {
        "id": "7k5mJhL8UAoM",
        "colab_type": "code",
        "colab": {}
      },
      "source": [
        "X_tr_train, X_tr_test, y_tr_train, y_tr_test = train_test_split( X_train, y_train, test_size=0.33, random_state=42, stratify=y_train)\n",
        "# ## Dropping correlated features"
      ],
      "execution_count": 0,
      "outputs": []
    },
    {
      "cell_type": "code",
      "metadata": {
        "id": "exYgNtFmSHy1",
        "colab_type": "code",
        "colab": {}
      },
      "source": [
        "# ## Dropping correlated features\n",
        "# # Create correlation matrix\n",
        "# corr_matrix = X_train.corr().abs()\n",
        "\n",
        "# # Select upper triangle of correlation matrix\n",
        "# upper = corr_matrix.where(np.triu(np.ones(corr_matrix.shape), k=1).astype(np.bool))\n",
        "\n",
        "# # Find index of feature columns with correlation greater than 0.8\n",
        "# to_drop = [column for column in upper.columns if any(upper[column] > 0.7)]\n",
        "# # to_drop\n",
        "# num_train = num_train.drop(num_train[to_drop], axis=1)\n",
        "# num_test = num_test.drop(num_test[to_drop], axis=1)"
      ],
      "execution_count": 0,
      "outputs": []
    },
    {
      "cell_type": "code",
      "metadata": {
        "id": "uXHWGDWBQHaJ",
        "colab_type": "code",
        "outputId": "1a59673d-afd5-4b74-af3d-e09b6f875345",
        "colab": {
          "base_uri": "https://localhost:8080/",
          "height": 224
        }
      },
      "source": [
        "preds_tr = np.zeros((len(X_tr_train), 1))\n",
        "preds = np.zeros((len(X_tr_test), 1))\n",
        "for i in range(7):\n",
        "    print(\"training LGBC model {}\".format(i))\n",
        "    lgbc = lgb.LGBMClassifier(n_estimators=3500, max_depth=7, learning_rate=0.001, random_state=i, colsample_bytree=0.5, reg_lambda=15, reg_alpha=10)\n",
        "    lgbc.fit(X_tr_train, y_tr_train)\n",
        "    preds_tr = preds_tr + lgbc.predict_proba(X_tr_train)[:,1].reshape(-1, 1)\n",
        "    preds = preds + lgbc.predict_proba(X_tr_test)[:,1].reshape(-1, 1)\n",
        "preds_tr = preds_tr/7\n",
        "preds = preds/7"
      ],
      "execution_count": 0,
      "outputs": [
        {
          "output_type": "stream",
          "text": [
            "training LGBC model 0\n"
          ],
          "name": "stdout"
        },
        {
          "output_type": "stream",
          "text": [
            "/usr/local/lib/python3.6/dist-packages/sklearn/preprocessing/label.py:219: DataConversionWarning: A column-vector y was passed when a 1d array was expected. Please change the shape of y to (n_samples, ), for example using ravel().\n",
            "  y = column_or_1d(y, warn=True)\n",
            "/usr/local/lib/python3.6/dist-packages/sklearn/preprocessing/label.py:252: DataConversionWarning: A column-vector y was passed when a 1d array was expected. Please change the shape of y to (n_samples, ), for example using ravel().\n",
            "  y = column_or_1d(y, warn=True)\n"
          ],
          "name": "stderr"
        },
        {
          "output_type": "stream",
          "text": [
            "training LGBC model 1\n",
            "training LGBC model 2\n",
            "training LGBC model 3\n",
            "training LGBC model 4\n",
            "training LGBC model 5\n",
            "training LGBC model 6\n"
          ],
          "name": "stdout"
        }
      ]
    },
    {
      "cell_type": "code",
      "metadata": {
        "id": "SLS4f4O8XC6F",
        "colab_type": "code",
        "outputId": "50411f5c-bd69-41ca-beed-32100593fb92",
        "colab": {
          "base_uri": "https://localhost:8080/",
          "height": 34
        }
      },
      "source": [
        "# Train AUC and Validation AUC\n",
        "roc_auc_score(y_tr_train, preds_tr), roc_auc_score(y_tr_test, preds)"
      ],
      "execution_count": 0,
      "outputs": [
        {
          "output_type": "execute_result",
          "data": {
            "text/plain": [
              "(0.9989770643387237, 0.9983705988069629)"
            ]
          },
          "metadata": {
            "tags": []
          },
          "execution_count": 537
        }
      ]
    },
    {
      "cell_type": "markdown",
      "metadata": {
        "id": "LpjcCWmL367_",
        "colab_type": "text"
      },
      "source": [
        "first try : (0.9320700601514138, 0.8826245683771141)\n",
        "\n",
        "second try : ((0.9098739615632245, 0.8819773263665811)\n",
        "\n",
        "third try : ((0.9188230876549205, 0.8847230641487848))\n",
        "\n",
        "fourth try : (0.9391805610749413, 0.8861403889217562))\n",
        "\n",
        "fifth try : (0.918460318250677, 0.8795682872306674))\n",
        "\n",
        "added tot items in a coupon and coupon redemption rate.\n",
        "\n",
        "sixth try : (0.9617636754098992, 0.9527717392096506)\n",
        "\n",
        "just campaign features : (0.7719987597532932, 0.7367990728559836)\n",
        "\n",
        "after adding customer level features from train data\n",
        "(0.9450772085483267, 0.9386069939710051) -- checking submission 0.79\n",
        "\n",
        "after adding coupon customer common items\n",
        "(0.990913491098303, 0.9887642414700986) -- checking submission 0.85\n",
        "\n",
        "(0.9946873525719954, 0.9921262883905693) -- LB 0.891\n",
        "\n",
        "(0.9947858545695316, 0.992139730424067) -- LB 0.887 after adding pranshu features\n",
        "\n",
        "(0.9952876809828943, 0.9931946061492283) -- LB 0.8989\n",
        "\n",
        "(0.9952232538615304, 0.9933125073587037) remove pranshu features increal colspace\n",
        "\n",
        "(0.9952965837829115, 0.9934718683341481) increase colspace to 0.90 - LB : 0.8971\n",
        "\n",
        "(0.996323734486674, 0.993856828739262) num of estimators increased to 2900 LB: 0.901\n",
        "\n",
        "(0.9964822515984859, 0.9940731968929145)\n",
        "after adding customer coupon features\n",
        "LB : 0.90365\n",
        "\n",
        "making estimators to 3900: 0.9027\n",
        "\n",
        "making estimators to 3000: (0.9965311382127401, 0.9941110937102458)\n",
        "\n",
        "brand type bent features: (0.9965010814144517, 0.9941745789768863) LB - 0.9046\n",
        "\n",
        "(0.9989770643387237, 0.9983705988069629) LB - 0.9155"
      ]
    },
    {
      "cell_type": "code",
      "metadata": {
        "id": "nHvz9bvN1yj4",
        "colab_type": "code",
        "outputId": "996b068a-7c80-42d5-8377-62cdfddd27af",
        "colab": {
          "base_uri": "https://localhost:8080/",
          "height": 312
        }
      },
      "source": [
        "lgb.plot_importance(lgbc, importance_type=\"gain\",height= 1,max_num_features=15)"
      ],
      "execution_count": 0,
      "outputs": [
        {
          "output_type": "execute_result",
          "data": {
            "text/plain": [
              "<matplotlib.axes._subplots.AxesSubplot at 0x7f58057a50f0>"
            ]
          },
          "metadata": {
            "tags": []
          },
          "execution_count": 538
        },
        {
          "output_type": "display_data",
          "data": {
            "image/png": "[encoded data removed]",
            "text/plain": [
              "<Figure size 432x288 with 1 Axes>"
            ]
          },
          "metadata": {
            "tags": []
          }
        }
      ]
    },
    {
      "cell_type": "code",
      "metadata": {
        "id": "o2Nj3GWIvIso",
        "colab_type": "code",
        "outputId": "95abd262-b671-400b-db84-565e3d875b78",
        "colab": {
          "base_uri": "https://localhost:8080/",
          "height": 312
        }
      },
      "source": [
        "lgb.plot_importance(lgbc, importance_type=\"gain\",height= 1,max_num_features=15)"
      ],
      "execution_count": 0,
      "outputs": [
        {
          "output_type": "execute_result",
          "data": {
            "text/plain": [
              "<matplotlib.axes._subplots.AxesSubplot at 0x7f5805844438>"
            ]
          },
          "metadata": {
            "tags": []
          },
          "execution_count": 359
        },
        {
          "output_type": "display_data",
          "data": {
            "image/png": "[encoded data removed]",
            "text/plain": [
              "<Figure size 432x288 with 1 Axes>"
            ]
          },
          "metadata": {
            "tags": []
          }
        }
      ]
    },
    {
      "cell_type": "code",
      "metadata": {
        "id": "IT0NuwjdVUWY",
        "colab_type": "code",
        "outputId": "13bf3c55-28ab-4398-90ff-939bdcbfd416",
        "colab": {
          "base_uri": "https://localhost:8080/",
          "height": 241
        }
      },
      "source": [
        "preds_tr = np.zeros((len(X_train), 1))\n",
        "preds = np.zeros((len(X_test), 1))\n",
        "for i in range(7):\n",
        "    print(\"training LGBC model {}\".format(i))\n",
        "    #LB:0.8989 13 lgbc = lgb.LGBMClassifier(n_estimators=500, max_depth=7, learning_rate=0.001, random_state=i, colsample_bytree=0.6, reg_lambda=15, reg_alpha=10)\n",
        "    # lgbc = lgb.LGBMClassifier(n_estimators=1000, max_depth=7, learning_rate=0.001, random_state=i, colsample_bytree=0.8, reg_lambda=15, reg_alpha=10)\n",
        "    #LB: 0.8971 13 lgbc = lgb.LGBMClassifier(n_estimators=1000, max_depth=7, learning_rate=0.001, random_state=i, colsample_bytree=0.9, reg_lambda=15, reg_alpha=10)\n",
        "    #LB: 0.8937 7 lgbc = lgb.LGBMClassifier(n_estimators=1000, max_depth=7, learning_rate=0.001, random_state=i, colsample_bytree=0.9, reg_lambda=3, reg_alpha=10)\n",
        "    #LB: 0.8911 lgbc = lgb.LGBMClassifier(n_estimators=1500, max_depth=7, learning_rate=0.0005, random_state=i, colsample_bytree=0.6, reg_lambda=15, reg_alpha=10)\n",
        "    #LB: 0.90365 7 lgbc = lgb.LGBMClassifier(n_estimators=2900, max_depth=7, learning_rate=0.001, random_state=i, colsample_bytree=0.6, reg_lambda=15, reg_alpha=10)\n",
        "    lgbc = lgb.LGBMClassifier(n_estimators=3000, max_depth=7, learning_rate=0.001, random_state=i, colsample_bytree=0.5, reg_lambda=15, reg_alpha=10)\n",
        "    lgbc.fit(X_train, y_train)\n",
        "    preds = preds + lgbc.predict_proba(X_test)[:,1].reshape(-1, 1)\n",
        "    preds_tr = preds_tr + lgbc.predict_proba(X_train)[:,1].reshape(-1, 1)\n",
        "preds = preds/7\n",
        "preds_tr = preds_tr/7\n",
        "\n",
        "\n",
        "print(roc_auc_score(y_train, preds_tr))"
      ],
      "execution_count": 0,
      "outputs": [
        {
          "output_type": "stream",
          "text": [
            "training LGBC model 0\n"
          ],
          "name": "stdout"
        },
        {
          "output_type": "stream",
          "text": [
            "/usr/local/lib/python3.6/dist-packages/sklearn/preprocessing/label.py:219: DataConversionWarning: A column-vector y was passed when a 1d array was expected. Please change the shape of y to (n_samples, ), for example using ravel().\n",
            "  y = column_or_1d(y, warn=True)\n",
            "/usr/local/lib/python3.6/dist-packages/sklearn/preprocessing/label.py:252: DataConversionWarning: A column-vector y was passed when a 1d array was expected. Please change the shape of y to (n_samples, ), for example using ravel().\n",
            "  y = column_or_1d(y, warn=True)\n"
          ],
          "name": "stderr"
        },
        {
          "output_type": "stream",
          "text": [
            "training LGBC model 1\n",
            "training LGBC model 2\n",
            "training LGBC model 3\n",
            "training LGBC model 4\n",
            "training LGBC model 5\n",
            "training LGBC model 6\n",
            "0.9989529600583468\n"
          ],
          "name": "stdout"
        }
      ]
    },
    {
      "cell_type": "code",
      "metadata": {
        "id": "DOwOKVrkRL0s",
        "colab_type": "code",
        "outputId": "875d9fa3-a754-4d61-eb4c-7548d93287a5",
        "colab": {
          "base_uri": "https://localhost:8080/",
          "height": 34
        }
      },
      "source": [
        "X_test.shape"
      ],
      "execution_count": 0,
      "outputs": [
        {
          "output_type": "execute_result",
          "data": {
            "text/plain": [
              "(50226, 69)"
            ]
          },
          "metadata": {
            "tags": []
          },
          "execution_count": 544
        }
      ]
    },
    {
      "cell_type": "markdown",
      "metadata": {
        "id": "LIVwomwsAI3X",
        "colab_type": "text"
      },
      "source": [
        "0.996707023870857"
      ]
    },
    {
      "cell_type": "code",
      "metadata": {
        "id": "T-F9Wbm-QMja",
        "colab_type": "code",
        "colab": {}
      },
      "source": [
        "# cbc = cbst.CatBoostClassifier(random_seed=123, \n",
        "#                                eval_metric='AUC', \n",
        "#                                n_estimators=1100, \n",
        "#                                max_depth=7, \n",
        "#                                learning_rate=0.03, \n",
        "#                                colsample_bylevel=0.4, reg_lambda=70)\n",
        "# # cat_features = [13,14,15,16,17,18,19,20,21,22,23,24,25]\n",
        "# # cat_features = [9,10,11,12,13,14,15,16,17,18,19,20,21]\n",
        "# cat_features = range(0,len(categorical_features))\n",
        "# cbc.fit(X_train[categorical_features], y_train,cat_features)\n",
        "preds_cb = cbc.predict_proba(X_test[categorical_features])[:,1]"
      ],
      "execution_count": 0,
      "outputs": []
    },
    {
      "cell_type": "code",
      "metadata": {
        "id": "FaNqEX2sS-0j",
        "colab_type": "code",
        "colab": {}
      },
      "source": [
        "from scipy.stats import hmean\n",
        "sub = pd.DataFrame()\n",
        "sub_list = {'id':test_data['id']}\n",
        "submission_df = pd.DataFrame(sub_list)\n",
        "# sub['score'] = preds[1,1]\n",
        "# submission_df['redemption_status_cb'] = preds_cb\n",
        "submission_df['redemption_status'] = preds\n",
        "# submission_df['redemption_status'] =hmean(submission_df[['redemption_status_cb', 'redemption_status_lgm']].values, axis=1)\n",
        "# submission_df.head()\n",
        "# submission_df['Col2'] = 0\n",
        "# submission_df.loc[submission_df['is_click_x']>0.28945,'Col2'] = 1 \n",
        "submission_df[['id','redemption_status']].to_csv('/content/drive/My Drive/personal_hackathons/AMEX/submissions/ishant/submission_30.csv',index=False)\n",
        "# sub['decision'] =/\n",
        "# 1 if preds.reshape((len(preds),1)) > 0.5 else 0"
      ],
      "execution_count": 0,
      "outputs": []
    },
    {
      "cell_type": "code",
      "metadata": {
        "id": "TN5O_0izVHqR",
        "colab_type": "code",
        "colab": {}
      },
      "source": [
        "X_train.to_csv('/content/drive/My Drive/personal_hackathons/DataSet/amex/ishant_final_features_join_use_as_is/x_train.csv',index=False)\n",
        "X_test.to_csv('/content/drive/My Drive/personal_hackathons/DataSet/amex/ishant_final_features_join_use_as_is/x_test.csv',index=False)\n",
        "y_train.to_csv('/content/drive/My Drive/personal_hackathons/DataSet/amex/ishant_final_features_join_use_as_is/y_train.csv',index=False)"
      ],
      "execution_count": 0,
      "outputs": []
    },
    {
      "cell_type": "code",
      "metadata": {
        "id": "8vvNGAJ-i4xa",
        "colab_type": "code",
        "outputId": "478490fe-ee61-40f0-a4b3-82b7b60bf537",
        "colab": {
          "base_uri": "https://localhost:8080/",
          "height": 306
        }
      },
      "source": [
        "X_train.columns"
      ],
      "execution_count": 0,
      "outputs": [
        {
          "output_type": "execute_result",
          "data": {
            "text/plain": [
              "Index(['selling_price_tot_purchase', 'selling_price_avg_purchase',\n",
              "       'selling_price_max_purchase', 'other_discount_avg_o_discount',\n",
              "       'other_discount_max_o_discount', 'coupon_discount_tot_c_discount',\n",
              "       'coupon_discount_max_c_discount', 'quantity_tot_qty',\n",
              "       'quantity_max_qty', 'selling_price_tot_purchase_bin',\n",
              "       'selling_price_avg_purchase_bin', 'selling_price_max_purchase_bin',\n",
              "       'other_discount_tot_o_discount_bin',\n",
              "       'other_discount_avg_o_discount_bin',\n",
              "       'other_discount_max_o_discount_bin',\n",
              "       'coupon_discount_tot_c_discount_bin',\n",
              "       'coupon_discount_avg_c_discount_bin',\n",
              "       'coupon_discount_max_c_discount_bin', 'quantity_tot_qty_bin',\n",
              "       'quantity_avg_qty_bin', 'quantity_max_qty_bin', 'item_id_uni_item_bin',\n",
              "       'num_visits', 'duration_in_days', 'same_type_overlapping_campaigns',\n",
              "       'other_type_overlapping_campaigns', 'Jan', 'Feb', 'May', 'Aug', 'Oct',\n",
              "       'Nov', 'tot_item_in_coupon', 'coupon_redemption_rate'],\n",
              "      dtype='object')"
            ]
          },
          "metadata": {
            "tags": []
          },
          "execution_count": 138
        }
      ]
    }
  ]
}